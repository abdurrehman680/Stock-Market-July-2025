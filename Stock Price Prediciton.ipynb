{
 "cells": [
  {
   "cell_type": "markdown",
   "id": "b2a5ce99-457e-4072-a6b5-e716e17f2164",
   "metadata": {},
   "source": [
    "# Risk Assesement"
   ]
  },
  {
   "cell_type": "code",
   "execution_count": 27,
   "id": "97a6ca3c-cc1a-4e08-85b9-e96d85fbea94",
   "metadata": {},
   "outputs": [],
   "source": [
    "%matplotlib inline"
   ]
  },
  {
   "cell_type": "code",
   "execution_count": 28,
   "id": "04baebd5-647a-46b3-ac26-36ce39118ecc",
   "metadata": {
    "scrolled": true
   },
   "outputs": [],
   "source": [
    "from tensorflow.keras.models import Sequential\n",
    "from tensorflow.keras.layers import LSTM, Dense, Dropout\n",
    "from sklearn.preprocessing import StandardScaler\n",
    "from statsmodels.tsa.seasonal import seasonal_decompose\n",
    "from statsmodels.tsa.stattools import adfuller\n",
    "from statsmodels.tsa.stattools import kpss\n",
    "from statsmodels.tsa.seasonal import STL\n",
    "from scipy.stats import ks_2samp\n",
    "from Portfolio import selected_tickers\n",
    "\n",
    "import math\n",
    "import yfinance as yf\n",
    "import pandas as pd\n",
    "import numpy as np\n",
    "import warnings\n",
    "warnings.filterwarnings(\"ignore\")\n",
    "import matplotlib.pyplot as plt\n",
    "import datetime as time"
   ]
  },
  {
   "cell_type": "code",
   "execution_count": 29,
   "id": "c3cb3ff2-7252-4138-b8d3-15156a8b8396",
   "metadata": {},
   "outputs": [],
   "source": [
    "stock_data_june = pd.read_csv(\"stock_market_june2025.csv\")\n",
    "stock_data_53 = pd.read_csv(\"stock_data_july_2025.csv\")"
   ]
  },
  {
   "cell_type": "code",
   "execution_count": 30,
   "id": "4d4a3fd0-0396-4a06-ae9f-6af16d831088",
   "metadata": {},
   "outputs": [
    {
     "data": {
      "text/plain": [
       "0"
      ]
     },
     "execution_count": 30,
     "metadata": {},
     "output_type": "execute_result"
    }
   ],
   "source": [
    "pd.set_option('display.max_rows', 100) \n",
    "stock_data_june['Ticker'].value_counts().gt(2).sum()"
   ]
  },
  {
   "cell_type": "code",
   "execution_count": 31,
   "id": "a0b09162-3a2f-4e5a-bec2-326657143ffb",
   "metadata": {},
   "outputs": [],
   "source": [
    "# Checking tickers that appear more than once\n",
    "stock_data_53['Ticker'].value_counts().gt(1).sum()\n",
    "# Checking tickers that appear more than twice\n",
    "stock_data_53['Ticker'].value_counts().gt(2).sum()\n",
    "\n",
    "# Filtering\n",
    "valid_tickers = stock_data_53['Ticker'].value_counts()\n",
    "valid_tickers = valid_tickers[valid_tickers > 2].index\n",
    "sorted_stock_data = stock_data_53[stock_data_53['Ticker'].isin(valid_tickers)]"
   ]
  },
  {
   "cell_type": "code",
   "execution_count": 32,
   "id": "e1ef3a3a-bc3a-4b36-b61c-aa390c7d3f64",
   "metadata": {},
   "outputs": [
    {
     "data": {
      "text/plain": [
       "4346"
      ]
     },
     "execution_count": 32,
     "metadata": {},
     "output_type": "execute_result"
    }
   ],
   "source": [
    "len(sorted_stock_data)"
   ]
  },
  {
   "cell_type": "code",
   "execution_count": 33,
   "id": "9ad0d667-3e9a-4842-b94c-1f533566937c",
   "metadata": {},
   "outputs": [],
   "source": [
    "# Sorting the df\n",
    "sorted_stock_data[\"Date\"] = pd.to_datetime(sorted_stock_data[\"Date\"], dayfirst=True, format=\"mixed\")\n",
    "sorted_stock_data = sorted_stock_data.sort_values(['Ticker', 'Date'])\n"
   ]
  },
  {
   "cell_type": "markdown",
   "id": "10094176-9730-4766-8577-4fd0aac51596",
   "metadata": {},
   "source": [
    "### Percentage Change"
   ]
  },
  {
   "cell_type": "code",
   "execution_count": 34,
   "id": "d4bcfac6-228c-40e7-8155-828a4d37c801",
   "metadata": {},
   "outputs": [],
   "source": [
    "# Calculating percentage change\n",
    "sorted_stock_data['Return'] = sorted_stock_data.groupby('Ticker')['Close Price'].pct_change()\n",
    "# sorted_stock_data"
   ]
  },
  {
   "cell_type": "markdown",
   "id": "cae7bdc8-b5a5-4656-a9fe-97dfbe86ff06",
   "metadata": {},
   "source": [
    "### Volatility"
   ]
  },
  {
   "cell_type": "code",
   "execution_count": 35,
   "id": "eb1d9fab-1a66-447a-bb42-5ccf9ae265b0",
   "metadata": {},
   "outputs": [],
   "source": [
    "# Volatility\n",
    "volatility = sorted_stock_data.groupby('Ticker')['Return'].std()\n",
    "volatility.dropna(inplace=True)\n",
    "volatility.to_csv('volatility-by-ticker.csv')\n",
    "# volatility"
   ]
  },
  {
   "cell_type": "markdown",
   "id": "d74e9a0f-b438-4a5c-a00d-aa857344d5e0",
   "metadata": {},
   "source": [
    "### Value At Risk"
   ]
  },
  {
   "cell_type": "code",
   "execution_count": 36,
   "id": "4cc52db7-6138-45f2-b54e-33e854c3af37",
   "metadata": {
    "scrolled": true
   },
   "outputs": [
    {
     "data": {
      "text/plain": [
       "Ticker\n",
       "AAPL    -0.133907\n",
       "ABBV    -0.057638\n",
       "ABT     -0.074918\n",
       "ADBE    -0.077749\n",
       "ADP     -0.052902\n",
       "AMD     -0.073338\n",
       "AMGN    -0.047398\n",
       "AMT     -0.067257\n",
       "AMZN    -0.072653\n",
       "AVGO    -0.044499\n",
       "BAC     -0.088677\n",
       "BKNG    -0.034992\n",
       "BLK     -0.048122\n",
       "BMY     -0.066549\n",
       "BRK.B   -0.053669\n",
       "C       -0.071408\n",
       "CAT     -0.050349\n",
       "CB      -0.064526\n",
       "COST    -0.046691\n",
       "CRM     -0.057804\n",
       "CVX     -0.074692\n",
       "DIS     -0.073564\n",
       "DUK     -0.073431\n",
       "ELV     -0.046449\n",
       "GE      -0.083137\n",
       "GILD    -0.076943\n",
       "GOOGL   -0.080879\n",
       "GS      -0.064442\n",
       "HD      -0.053391\n",
       "HON     -0.056123\n",
       "IBM     -0.080025\n",
       "INTC    -0.095005\n",
       "INTU    -0.077564\n",
       "ISRG    -0.067975\n",
       "JNJ     -0.053087\n",
       "JPM     -0.090388\n",
       "KO      -0.062069\n",
       "LLY     -0.045748\n",
       "LMT     -0.050913\n",
       "LOW     -0.047739\n",
       "MA      -0.056240\n",
       "MDLZ    -0.071827\n",
       "MDT     -0.080827\n",
       "META    -0.065789\n",
       "MMC     -0.079160\n",
       "MRK     -0.046618\n",
       "MS      -0.058834\n",
       "MSFT    -0.085808\n",
       "NEE     -0.089459\n",
       "NFLX    -0.051712\n",
       "NKE     -0.080938\n",
       "NOW     -0.044399\n",
       "NVDA    -0.064698\n",
       "ORCL    -0.072944\n",
       "PEP     -0.098196\n",
       "PFE     -0.135950\n",
       "PG      -0.050464\n",
       "PLD     -0.060695\n",
       "PM      -0.074616\n",
       "PYPL    -0.080294\n",
       "QCOM    -0.080840\n",
       "REGN    -0.062267\n",
       "RTX     -0.073462\n",
       "SCHW    -0.081844\n",
       "SO      -0.051839\n",
       "SPGI    -0.058263\n",
       "SYK     -0.059466\n",
       "T       -0.119409\n",
       "TJX     -0.075484\n",
       "TMO     -0.049482\n",
       "TSLA    -0.070238\n",
       "TXN     -0.088164\n",
       "UBER    -0.109275\n",
       "UNH     -0.057108\n",
       "UNP     -0.057505\n",
       "UPS     -0.087635\n",
       "V       -0.083462\n",
       "VRTX    -0.067699\n",
       "VZ      -0.072813\n",
       "WMT     -0.074621\n",
       "XOM     -0.080478\n",
       "ZTS     -0.041769\n",
       "Name: Return, dtype: float64"
      ]
     },
     "execution_count": 36,
     "metadata": {},
     "output_type": "execute_result"
    }
   ],
   "source": [
    "# Value at Risk\n",
    "Var_95_by_ticker = sorted_stock_data.groupby('Ticker')['Return'].apply(\n",
    "    lambda x: np.percentile(x.dropna(), 5)\n",
    ")\n",
    "Var_95_by_ticker.to_csv('VaR-by-ticker.csv')\n",
    "Var_95_by_ticker"
   ]
  },
  {
   "cell_type": "markdown",
   "id": "6d66d9b0-8428-4d89-a6d1-47e727a1a2f1",
   "metadata": {},
   "source": [
    "### Conditional VaR"
   ]
  },
  {
   "cell_type": "code",
   "execution_count": 37,
   "id": "306d330d-90a2-4cb7-a02a-b79aeff89e7f",
   "metadata": {},
   "outputs": [],
   "source": [
    "# Conditional VaR\n",
    "CVaR_95_by_Ticker = sorted_stock_data.groupby('Ticker')['Return'].apply(\n",
    "    lambda x: x[x <= np.percentile(x.dropna(), 5)].mean()\n",
    ")\n",
    "CVaR_95_by_Ticker.to_csv('CVaR-by-Ticker.csv')"
   ]
  },
  {
   "cell_type": "markdown",
   "id": "c049fc78-ec48-4b47-8614-7886dc925bf6",
   "metadata": {},
   "source": [
    "### Drawdown"
   ]
  },
  {
   "cell_type": "code",
   "execution_count": 38,
   "id": "d4cf8f74-889e-44b8-bff1-79dc9ec8c269",
   "metadata": {},
   "outputs": [],
   "source": [
    "# Cumulative Return Calculation\n",
    "sorted_stock_data['CumulativeReturn'] = (1 + sorted_stock_data['Return']).groupby(sorted_stock_data['Ticker']).cumprod()\n"
   ]
  },
  {
   "cell_type": "code",
   "execution_count": 39,
   "id": "c5470887-5e84-42fd-98be-02c53ffacdca",
   "metadata": {},
   "outputs": [],
   "source": [
    "# Running Maximum Calcualtion\n",
    "sorted_stock_data['RunningMax'] = sorted_stock_data.groupby('Ticker')['CumulativeReturn'].cummax()"
   ]
  },
  {
   "cell_type": "code",
   "execution_count": 40,
   "id": "6fd730ec-39a2-45a1-b433-1a9a6d41ff0c",
   "metadata": {},
   "outputs": [],
   "source": [
    "# Drawdown Calculation\n",
    "sorted_stock_data['Drawdown'] = sorted_stock_data['CumulativeReturn'] / sorted_stock_data['RunningMax'] - 1\n",
    "max_drawdown = sorted_stock_data.groupby('Ticker')['Drawdown'].min()\n",
    "sorted_stock_data.to_csv('data-with-drawdown.csv')"
   ]
  },
  {
   "cell_type": "code",
   "execution_count": 41,
   "id": "f00cd465-1efd-49a9-a860-18753bbe42ae",
   "metadata": {},
   "outputs": [],
   "source": [
    "stock_data = stock_data_june"
   ]
  },
  {
   "cell_type": "code",
   "execution_count": 42,
   "id": "af1cbb32-7bf3-4a98-b9d9-0a818fd14a80",
   "metadata": {},
   "outputs": [
    {
     "data": {
      "text/plain": [
       "False"
      ]
     },
     "execution_count": 42,
     "metadata": {},
     "output_type": "execute_result"
    }
   ],
   "source": [
    "stock_data_53['Date']= pd.to_datetime(stock_data_53['Date'])\n",
    "stock_data_june['Date']= pd.to_datetime(stock_data_june['Date'], format='%d-%m-%Y')\n",
    "\n",
    "filtered = stock_data_53[stock_data_53['Date'] <= '2025-06-30']\n",
    "stock_data_june.reset_index(drop=True).equals(filtered.reset_index(drop=True))"
   ]
  },
  {
   "cell_type": "code",
   "execution_count": 43,
   "id": "5986a461-cb85-433f-a57d-d1513424f4da",
   "metadata": {
    "scrolled": true
   },
   "outputs": [
    {
     "data": {
      "text/plain": [
       "Ticker\n",
       "OUF    2\n",
       "XVD    2\n",
       "CLL    2\n",
       "GFF    2\n",
       "TXP    2\n",
       "      ..\n",
       "JKX    1\n",
       "OUV    1\n",
       "KOM    1\n",
       "LJX    1\n",
       "UAA    1\n",
       "Name: count, Length: 1691, dtype: int64"
      ]
     },
     "execution_count": 43,
     "metadata": {},
     "output_type": "execute_result"
    }
   ],
   "source": [
    "stock_data_june['Ticker'].value_counts()"
   ]
  },
  {
   "cell_type": "code",
   "execution_count": 44,
   "id": "910b3d6f-3ba1-4cea-8b26-06ebc6f07cf8",
   "metadata": {},
   "outputs": [
    {
     "data": {
      "text/plain": [
       "Ticker\n",
       "AAPL     30\n",
       "REGN     30\n",
       "PYPL     30\n",
       "PM       30\n",
       "PLD      30\n",
       "PG       30\n",
       "PFE      30\n",
       "PEP      30\n",
       "ORCL     30\n",
       "NVDA     30\n",
       "NOW      30\n",
       "NKE      30\n",
       "NFLX     30\n",
       "NEE      30\n",
       "MSFT     30\n",
       "MS       30\n",
       "MRK      30\n",
       "MMC      30\n",
       "META     30\n",
       "QCOM     30\n",
       "RTX      30\n",
       "ABBV     30\n",
       "SCHW     30\n",
       "XOM      30\n",
       "WMT      30\n",
       "VZ       30\n",
       "VRTX     30\n",
       "V        30\n",
       "UPS      30\n",
       "UNP      30\n",
       "UNH      30\n",
       "UBER     30\n",
       "TXN      30\n",
       "TSLA     30\n",
       "TMO      30\n",
       "TJX      30\n",
       "T        30\n",
       "SYK      30\n",
       "SPGI     30\n",
       "SO       30\n",
       "MDT      30\n",
       "MDLZ     30\n",
       "MA       30\n",
       "LOW      30\n",
       "COST     30\n",
       "CB       30\n",
       "CAT      30\n",
       "C        30\n",
       "BRK.B    30\n",
       "BMY      30\n",
       "BLK      30\n",
       "BKNG     30\n",
       "BAC      30\n",
       "AVGO     30\n",
       "AMZN     30\n",
       "AMT      30\n",
       "AMGN     30\n",
       "AMD      30\n",
       "ADP      30\n",
       "ADBE     30\n",
       "ABT      30\n",
       "CRM      30\n",
       "CVX      30\n",
       "DIS      30\n",
       "INTC     30\n",
       "LMT      30\n",
       "LLY      30\n",
       "KO       30\n",
       "JPM      30\n",
       "JNJ      30\n",
       "ISRG     30\n",
       "INTU     30\n",
       "IBM      30\n",
       "DUK      30\n",
       "HON      30\n",
       "HD       30\n",
       "GS       30\n",
       "GOOGL    30\n",
       "GILD     30\n",
       "GE       30\n",
       "ELV      30\n",
       "ZTS      30\n",
       "Name: count, dtype: int64"
      ]
     },
     "execution_count": 44,
     "metadata": {},
     "output_type": "execute_result"
    }
   ],
   "source": [
    "filtered['Ticker'].value_counts()"
   ]
  },
  {
   "cell_type": "markdown",
   "id": "e12160b1-99d6-4810-9c90-13a4e5145664",
   "metadata": {},
   "source": [
    "# Time Series Analysis"
   ]
  },
  {
   "cell_type": "markdown",
   "id": "c6e60510-5572-4034-b73b-1c115e4698f0",
   "metadata": {},
   "source": [
    "# Scrapping"
   ]
  },
  {
   "cell_type": "code",
   "execution_count": 45,
   "id": "e3686622-af80-465f-a0ee-35a9e4d66b9b",
   "metadata": {},
   "outputs": [
    {
     "name": "stderr",
     "output_type": "stream",
     "text": [
      "[*********************100%***********************]  82 of 82 completed\n"
     ]
    }
   ],
   "source": [
    "dataset_tickers = stock_data_53['Ticker'].unique().tolist()\n",
    "dataset_tickers = [t.replace('.', '-') for t in dataset_tickers]\n",
    "ten_year_data = yf.download(dataset_tickers, start='2014-06-01', end='2025-06-01', threads=False)[[\"Open\",\"High\",\"Low\",\"Close\", \"Volume\"]]\n"
   ]
  },
  {
   "cell_type": "code",
   "execution_count": 46,
   "id": "737c39d7-b75c-4e23-be4a-59d7359a1f37",
   "metadata": {},
   "outputs": [],
   "source": [
    "# Removing UBER because it started trading publiclly in 2019, and some values for PYPL are also missing\n",
    "ten_year_data.drop(['UBER', 'PYPL'], axis=1, level=1, inplace=True)"
   ]
  },
  {
   "cell_type": "code",
   "execution_count": 47,
   "id": "80f2c3dd-7be0-4ed3-847a-57b10a581135",
   "metadata": {},
   "outputs": [],
   "source": [
    "pd.reset_option('display.max_rows')"
   ]
  },
  {
   "cell_type": "code",
   "execution_count": 48,
   "id": "8ddf5e8c-f7b3-4976-be7b-a1c65b5e7a50",
   "metadata": {},
   "outputs": [],
   "source": [
    "# mask = temp.isna()\n",
    "# stacked = mask.stack(level=list(range(temp.columns.nlevels)), dropna=False)\n",
    "# nan_index = stacked[stacked].index.tolist()\n",
    "# cols = ['row'] + [f'col_level_{i}' for i in range(temp.columns.nlevels)]\n",
    "# nan_df = pd.DataFrame(nan_index, columns=cols)"
   ]
  },
  {
   "cell_type": "markdown",
   "id": "bb7b9e4d-9eb7-4dfb-9c99-fed03eb7aba2",
   "metadata": {},
   "source": [
    "#### There are missing values. These values are refilled by forward fill"
   ]
  },
  {
   "cell_type": "code",
   "execution_count": 49,
   "id": "2294d79b-0864-419e-a299-83938141e67e",
   "metadata": {
    "scrolled": true
   },
   "outputs": [
    {
     "data": {
      "text/plain": [
       "Date\n",
       "1.0    2166\n",
       "3.0     497\n",
       "4.0      76\n",
       "2.0      27\n",
       "Name: count, dtype: int64"
      ]
     },
     "execution_count": 49,
     "metadata": {},
     "output_type": "execute_result"
    }
   ],
   "source": [
    "missing_days = ten_year_data.index.to_series().diff().dt.days.value_counts()\n",
    "missing_days"
   ]
  },
  {
   "cell_type": "code",
   "execution_count": 50,
   "id": "d92193a6-0de5-48de-b633-cfadeeea6a7c",
   "metadata": {},
   "outputs": [
    {
     "data": {
      "text/plain": [
       "False"
      ]
     },
     "execution_count": 50,
     "metadata": {},
     "output_type": "execute_result"
    }
   ],
   "source": [
    "(ten_year_data.isnull() == True).any().any()"
   ]
  },
  {
   "cell_type": "code",
   "execution_count": 51,
   "id": "1e1a9ed8-4a81-4946-a5fe-17f28e26ed7f",
   "metadata": {},
   "outputs": [
    {
     "data": {
      "text/plain": [
       "(2767, 400)"
      ]
     },
     "execution_count": 51,
     "metadata": {},
     "output_type": "execute_result"
    }
   ],
   "source": [
    "ten_year_data.shape"
   ]
  },
  {
   "cell_type": "code",
   "execution_count": 52,
   "id": "23f2ff61-748c-4e3b-a922-7d1e04b30392",
   "metadata": {},
   "outputs": [],
   "source": [
    "date_without_missing = pd.date_range(start=ten_year_data.index.min(), end=ten_year_data.index.max())\n",
    "ten_year_data_fill = ten_year_data.reindex(date_without_missing).ffill()"
   ]
  },
  {
   "cell_type": "code",
   "execution_count": 53,
   "id": "8967a826-9ad8-49ee-b98c-3bb0d30c1d72",
   "metadata": {},
   "outputs": [
    {
     "data": {
      "text/plain": [
       "(4016, 400)"
      ]
     },
     "execution_count": 53,
     "metadata": {},
     "output_type": "execute_result"
    }
   ],
   "source": [
    "ten_year_data_fill.shape"
   ]
  },
  {
   "cell_type": "code",
   "execution_count": 54,
   "id": "a87c3f5e-07c8-4a8b-a594-d44dfd1f40e9",
   "metadata": {},
   "outputs": [
    {
     "data": {
      "text/plain": [
       "False"
      ]
     },
     "execution_count": 54,
     "metadata": {},
     "output_type": "execute_result"
    }
   ],
   "source": [
    "(ten_year_data_fill.isnull() == True).any().any()"
   ]
  },
  {
   "cell_type": "code",
   "execution_count": 55,
   "id": "87522fa0-80d9-4870-b0fd-2ec4945a174b",
   "metadata": {},
   "outputs": [
    {
     "data": {
      "text/html": [
       "<div>\n",
       "<style scoped>\n",
       "    .dataframe tbody tr th:only-of-type {\n",
       "        vertical-align: middle;\n",
       "    }\n",
       "\n",
       "    .dataframe tbody tr th {\n",
       "        vertical-align: top;\n",
       "    }\n",
       "\n",
       "    .dataframe thead th {\n",
       "        text-align: right;\n",
       "    }\n",
       "</style>\n",
       "<table border=\"1\" class=\"dataframe\">\n",
       "  <thead>\n",
       "    <tr style=\"text-align: right;\">\n",
       "      <th>Ticker</th>\n",
       "      <th>AAPL</th>\n",
       "      <th>ABBV</th>\n",
       "      <th>ABT</th>\n",
       "      <th>ADBE</th>\n",
       "      <th>ADP</th>\n",
       "      <th>AMD</th>\n",
       "      <th>AMGN</th>\n",
       "      <th>AMT</th>\n",
       "      <th>AMZN</th>\n",
       "      <th>AVGO</th>\n",
       "      <th>...</th>\n",
       "      <th>TXN</th>\n",
       "      <th>UNH</th>\n",
       "      <th>UNP</th>\n",
       "      <th>UPS</th>\n",
       "      <th>V</th>\n",
       "      <th>VRTX</th>\n",
       "      <th>VZ</th>\n",
       "      <th>WMT</th>\n",
       "      <th>XOM</th>\n",
       "      <th>ZTS</th>\n",
       "    </tr>\n",
       "  </thead>\n",
       "  <tbody>\n",
       "    <tr>\n",
       "      <th>2014-06-02</th>\n",
       "      <td>19.744545</td>\n",
       "      <td>34.322796</td>\n",
       "      <td>32.082165</td>\n",
       "      <td>64.639999</td>\n",
       "      <td>54.251514</td>\n",
       "      <td>3.970000</td>\n",
       "      <td>84.674362</td>\n",
       "      <td>68.327950</td>\n",
       "      <td>15.442000</td>\n",
       "      <td>5.360530</td>\n",
       "      <td>...</td>\n",
       "      <td>34.601238</td>\n",
       "      <td>66.218895</td>\n",
       "      <td>77.222763</td>\n",
       "      <td>70.447121</td>\n",
       "      <td>49.329597</td>\n",
       "      <td>72.629997</td>\n",
       "      <td>28.186134</td>\n",
       "      <td>20.540115</td>\n",
       "      <td>62.015339</td>\n",
       "      <td>28.361811</td>\n",
       "    </tr>\n",
       "    <tr>\n",
       "      <th>2014-06-03</th>\n",
       "      <td>20.023762</td>\n",
       "      <td>34.462238</td>\n",
       "      <td>32.098278</td>\n",
       "      <td>64.089996</td>\n",
       "      <td>53.793617</td>\n",
       "      <td>3.940000</td>\n",
       "      <td>85.161545</td>\n",
       "      <td>68.583061</td>\n",
       "      <td>15.359500</td>\n",
       "      <td>5.346313</td>\n",
       "      <td>...</td>\n",
       "      <td>34.601238</td>\n",
       "      <td>66.560532</td>\n",
       "      <td>76.532623</td>\n",
       "      <td>70.007164</td>\n",
       "      <td>48.821327</td>\n",
       "      <td>72.959999</td>\n",
       "      <td>27.758129</td>\n",
       "      <td>20.526733</td>\n",
       "      <td>62.294605</td>\n",
       "      <td>28.664505</td>\n",
       "    </tr>\n",
       "    <tr>\n",
       "      <th>2014-06-04</th>\n",
       "      <td>20.252399</td>\n",
       "      <td>34.595341</td>\n",
       "      <td>32.041859</td>\n",
       "      <td>64.169998</td>\n",
       "      <td>53.875618</td>\n",
       "      <td>4.040000</td>\n",
       "      <td>86.637627</td>\n",
       "      <td>68.807213</td>\n",
       "      <td>15.339000</td>\n",
       "      <td>5.358284</td>\n",
       "      <td>...</td>\n",
       "      <td>34.498131</td>\n",
       "      <td>67.085495</td>\n",
       "      <td>76.703201</td>\n",
       "      <td>69.695816</td>\n",
       "      <td>48.846748</td>\n",
       "      <td>72.639999</td>\n",
       "      <td>27.679298</td>\n",
       "      <td>20.639120</td>\n",
       "      <td>62.077408</td>\n",
       "      <td>28.774588</td>\n",
       "    </tr>\n",
       "    <tr>\n",
       "      <th>2014-06-05</th>\n",
       "      <td>20.331871</td>\n",
       "      <td>35.051708</td>\n",
       "      <td>32.364281</td>\n",
       "      <td>65.470001</td>\n",
       "      <td>53.786785</td>\n",
       "      <td>4.080000</td>\n",
       "      <td>85.612373</td>\n",
       "      <td>69.363823</td>\n",
       "      <td>16.178499</td>\n",
       "      <td>5.377739</td>\n",
       "      <td>...</td>\n",
       "      <td>34.903145</td>\n",
       "      <td>66.493874</td>\n",
       "      <td>77.676407</td>\n",
       "      <td>70.135780</td>\n",
       "      <td>49.029255</td>\n",
       "      <td>73.059998</td>\n",
       "      <td>27.752502</td>\n",
       "      <td>20.689962</td>\n",
       "      <td>62.393890</td>\n",
       "      <td>28.994724</td>\n",
       "    </tr>\n",
       "    <tr>\n",
       "      <th>2014-06-06</th>\n",
       "      <td>20.275969</td>\n",
       "      <td>34.924950</td>\n",
       "      <td>32.283684</td>\n",
       "      <td>66.910004</td>\n",
       "      <td>54.408718</td>\n",
       "      <td>4.060000</td>\n",
       "      <td>85.670532</td>\n",
       "      <td>69.897209</td>\n",
       "      <td>16.483500</td>\n",
       "      <td>5.359781</td>\n",
       "      <td>...</td>\n",
       "      <td>34.976768</td>\n",
       "      <td>66.602173</td>\n",
       "      <td>78.265755</td>\n",
       "      <td>70.115463</td>\n",
       "      <td>49.209461</td>\n",
       "      <td>73.489998</td>\n",
       "      <td>27.831350</td>\n",
       "      <td>20.660532</td>\n",
       "      <td>63.045429</td>\n",
       "      <td>29.113972</td>\n",
       "    </tr>\n",
       "    <tr>\n",
       "      <th>...</th>\n",
       "      <td>...</td>\n",
       "      <td>...</td>\n",
       "      <td>...</td>\n",
       "      <td>...</td>\n",
       "      <td>...</td>\n",
       "      <td>...</td>\n",
       "      <td>...</td>\n",
       "      <td>...</td>\n",
       "      <td>...</td>\n",
       "      <td>...</td>\n",
       "      <td>...</td>\n",
       "      <td>...</td>\n",
       "      <td>...</td>\n",
       "      <td>...</td>\n",
       "      <td>...</td>\n",
       "      <td>...</td>\n",
       "      <td>...</td>\n",
       "      <td>...</td>\n",
       "      <td>...</td>\n",
       "      <td>...</td>\n",
       "      <td>...</td>\n",
       "    </tr>\n",
       "    <tr>\n",
       "      <th>2025-05-26</th>\n",
       "      <td>195.048645</td>\n",
       "      <td>181.690720</td>\n",
       "      <td>130.713272</td>\n",
       "      <td>407.690002</td>\n",
       "      <td>317.842712</td>\n",
       "      <td>110.309998</td>\n",
       "      <td>269.473938</td>\n",
       "      <td>210.205597</td>\n",
       "      <td>200.990005</td>\n",
       "      <td>227.792633</td>\n",
       "      <td>...</td>\n",
       "      <td>175.034866</td>\n",
       "      <td>291.646637</td>\n",
       "      <td>219.402191</td>\n",
       "      <td>93.602295</td>\n",
       "      <td>352.919006</td>\n",
       "      <td>436.000000</td>\n",
       "      <td>42.630703</td>\n",
       "      <td>96.115509</td>\n",
       "      <td>102.080101</td>\n",
       "      <td>162.038177</td>\n",
       "    </tr>\n",
       "    <tr>\n",
       "      <th>2025-05-27</th>\n",
       "      <td>199.983047</td>\n",
       "      <td>184.129669</td>\n",
       "      <td>132.345932</td>\n",
       "      <td>413.100006</td>\n",
       "      <td>322.415985</td>\n",
       "      <td>114.559998</td>\n",
       "      <td>277.201263</td>\n",
       "      <td>212.031235</td>\n",
       "      <td>206.020004</td>\n",
       "      <td>234.694534</td>\n",
       "      <td>...</td>\n",
       "      <td>181.925064</td>\n",
       "      <td>291.084198</td>\n",
       "      <td>221.614899</td>\n",
       "      <td>95.741890</td>\n",
       "      <td>358.668884</td>\n",
       "      <td>446.000000</td>\n",
       "      <td>42.807838</td>\n",
       "      <td>97.352623</td>\n",
       "      <td>102.565582</td>\n",
       "      <td>165.705902</td>\n",
       "    </tr>\n",
       "    <tr>\n",
       "      <th>2025-05-28</th>\n",
       "      <td>200.192795</td>\n",
       "      <td>181.522171</td>\n",
       "      <td>131.430054</td>\n",
       "      <td>412.230011</td>\n",
       "      <td>320.861908</td>\n",
       "      <td>112.860001</td>\n",
       "      <td>276.159698</td>\n",
       "      <td>210.800919</td>\n",
       "      <td>204.720001</td>\n",
       "      <td>238.459198</td>\n",
       "      <td>...</td>\n",
       "      <td>182.828522</td>\n",
       "      <td>294.152893</td>\n",
       "      <td>219.471329</td>\n",
       "      <td>94.946899</td>\n",
       "      <td>359.098145</td>\n",
       "      <td>445.100006</td>\n",
       "      <td>42.443726</td>\n",
       "      <td>97.013412</td>\n",
       "      <td>101.168587</td>\n",
       "      <td>164.848770</td>\n",
       "    </tr>\n",
       "    <tr>\n",
       "      <th>2025-05-29</th>\n",
       "      <td>199.723328</td>\n",
       "      <td>184.030518</td>\n",
       "      <td>132.256348</td>\n",
       "      <td>413.359985</td>\n",
       "      <td>320.842072</td>\n",
       "      <td>113.029999</td>\n",
       "      <td>281.258362</td>\n",
       "      <td>212.041168</td>\n",
       "      <td>205.699997</td>\n",
       "      <td>240.988907</td>\n",
       "      <td>...</td>\n",
       "      <td>183.662506</td>\n",
       "      <td>294.212128</td>\n",
       "      <td>219.797318</td>\n",
       "      <td>96.281693</td>\n",
       "      <td>361.763428</td>\n",
       "      <td>447.089996</td>\n",
       "      <td>42.640545</td>\n",
       "      <td>96.873741</td>\n",
       "      <td>101.743240</td>\n",
       "      <td>166.582977</td>\n",
       "    </tr>\n",
       "    <tr>\n",
       "      <th>2025-05-30</th>\n",
       "      <td>200.622314</td>\n",
       "      <td>184.516327</td>\n",
       "      <td>132.983078</td>\n",
       "      <td>415.089996</td>\n",
       "      <td>322.237823</td>\n",
       "      <td>110.730003</td>\n",
       "      <td>285.860992</td>\n",
       "      <td>212.973816</td>\n",
       "      <td>205.009995</td>\n",
       "      <td>241.088516</td>\n",
       "      <td>...</td>\n",
       "      <td>181.537872</td>\n",
       "      <td>297.902496</td>\n",
       "      <td>220.284286</td>\n",
       "      <td>95.732071</td>\n",
       "      <td>364.548553</td>\n",
       "      <td>442.049988</td>\n",
       "      <td>43.260517</td>\n",
       "      <td>98.489967</td>\n",
       "      <td>101.356842</td>\n",
       "      <td>168.068008</td>\n",
       "    </tr>\n",
       "  </tbody>\n",
       "</table>\n",
       "<p>4016 rows × 80 columns</p>\n",
       "</div>"
      ],
      "text/plain": [
       "Ticker            AAPL        ABBV         ABT        ADBE         ADP  \\\n",
       "2014-06-02   19.744545   34.322796   32.082165   64.639999   54.251514   \n",
       "2014-06-03   20.023762   34.462238   32.098278   64.089996   53.793617   \n",
       "2014-06-04   20.252399   34.595341   32.041859   64.169998   53.875618   \n",
       "2014-06-05   20.331871   35.051708   32.364281   65.470001   53.786785   \n",
       "2014-06-06   20.275969   34.924950   32.283684   66.910004   54.408718   \n",
       "...                ...         ...         ...         ...         ...   \n",
       "2025-05-26  195.048645  181.690720  130.713272  407.690002  317.842712   \n",
       "2025-05-27  199.983047  184.129669  132.345932  413.100006  322.415985   \n",
       "2025-05-28  200.192795  181.522171  131.430054  412.230011  320.861908   \n",
       "2025-05-29  199.723328  184.030518  132.256348  413.359985  320.842072   \n",
       "2025-05-30  200.622314  184.516327  132.983078  415.089996  322.237823   \n",
       "\n",
       "Ticker             AMD        AMGN         AMT        AMZN        AVGO  ...  \\\n",
       "2014-06-02    3.970000   84.674362   68.327950   15.442000    5.360530  ...   \n",
       "2014-06-03    3.940000   85.161545   68.583061   15.359500    5.346313  ...   \n",
       "2014-06-04    4.040000   86.637627   68.807213   15.339000    5.358284  ...   \n",
       "2014-06-05    4.080000   85.612373   69.363823   16.178499    5.377739  ...   \n",
       "2014-06-06    4.060000   85.670532   69.897209   16.483500    5.359781  ...   \n",
       "...                ...         ...         ...         ...         ...  ...   \n",
       "2025-05-26  110.309998  269.473938  210.205597  200.990005  227.792633  ...   \n",
       "2025-05-27  114.559998  277.201263  212.031235  206.020004  234.694534  ...   \n",
       "2025-05-28  112.860001  276.159698  210.800919  204.720001  238.459198  ...   \n",
       "2025-05-29  113.029999  281.258362  212.041168  205.699997  240.988907  ...   \n",
       "2025-05-30  110.730003  285.860992  212.973816  205.009995  241.088516  ...   \n",
       "\n",
       "Ticker             TXN         UNH         UNP        UPS           V  \\\n",
       "2014-06-02   34.601238   66.218895   77.222763  70.447121   49.329597   \n",
       "2014-06-03   34.601238   66.560532   76.532623  70.007164   48.821327   \n",
       "2014-06-04   34.498131   67.085495   76.703201  69.695816   48.846748   \n",
       "2014-06-05   34.903145   66.493874   77.676407  70.135780   49.029255   \n",
       "2014-06-06   34.976768   66.602173   78.265755  70.115463   49.209461   \n",
       "...                ...         ...         ...        ...         ...   \n",
       "2025-05-26  175.034866  291.646637  219.402191  93.602295  352.919006   \n",
       "2025-05-27  181.925064  291.084198  221.614899  95.741890  358.668884   \n",
       "2025-05-28  182.828522  294.152893  219.471329  94.946899  359.098145   \n",
       "2025-05-29  183.662506  294.212128  219.797318  96.281693  361.763428   \n",
       "2025-05-30  181.537872  297.902496  220.284286  95.732071  364.548553   \n",
       "\n",
       "Ticker            VRTX         VZ        WMT         XOM         ZTS  \n",
       "2014-06-02   72.629997  28.186134  20.540115   62.015339   28.361811  \n",
       "2014-06-03   72.959999  27.758129  20.526733   62.294605   28.664505  \n",
       "2014-06-04   72.639999  27.679298  20.639120   62.077408   28.774588  \n",
       "2014-06-05   73.059998  27.752502  20.689962   62.393890   28.994724  \n",
       "2014-06-06   73.489998  27.831350  20.660532   63.045429   29.113972  \n",
       "...                ...        ...        ...         ...         ...  \n",
       "2025-05-26  436.000000  42.630703  96.115509  102.080101  162.038177  \n",
       "2025-05-27  446.000000  42.807838  97.352623  102.565582  165.705902  \n",
       "2025-05-28  445.100006  42.443726  97.013412  101.168587  164.848770  \n",
       "2025-05-29  447.089996  42.640545  96.873741  101.743240  166.582977  \n",
       "2025-05-30  442.049988  43.260517  98.489967  101.356842  168.068008  \n",
       "\n",
       "[4016 rows x 80 columns]"
      ]
     },
     "execution_count": 55,
     "metadata": {},
     "output_type": "execute_result"
    }
   ],
   "source": [
    "ten_year_data_fill['Close']"
   ]
  },
  {
   "cell_type": "markdown",
   "id": "536f68ad-a839-4907-9fe4-43f2f9c65713",
   "metadata": {},
   "source": [
    "## Returns"
   ]
  },
  {
   "cell_type": "code",
   "execution_count": 56,
   "id": "8335105d-145b-47e3-b706-a87421c3927a",
   "metadata": {},
   "outputs": [],
   "source": [
    "ten_year_returns = ten_year_data_fill['Close'].pct_change()"
   ]
  },
  {
   "cell_type": "markdown",
   "id": "784ca858-df0c-4976-a0ee-1755df6f9d5c",
   "metadata": {},
   "source": [
    "## Features"
   ]
  },
  {
   "cell_type": "markdown",
   "id": "493f3973-c3f7-4620-a3ef-990c982fb4cc",
   "metadata": {},
   "source": [
    "### Moving Averages"
   ]
  },
  {
   "cell_type": "code",
   "execution_count": 57,
   "id": "9add2d1f-fe82-493f-8b06-590ec58d2dc1",
   "metadata": {},
   "outputs": [],
   "source": [
    "mo_a_5 = ten_year_returns.rolling(5).mean()\n",
    "mo_a_5.columns = pd.MultiIndex.from_product([['MA_5'], mo_a_5.columns])\n",
    "mo_a_10 = ten_year_returns.rolling(10).mean()\n",
    "mo_a_10.columns = pd.MultiIndex.from_product([['MA_10'], mo_a_10.columns])\n",
    "mo_a_20 = ten_year_returns.rolling(20).mean()\n",
    "mo_a_20.columns = pd.MultiIndex.from_product([['MA_20'], mo_a_20.columns])\n",
    "mo_a_50 = ten_year_returns.rolling(50).mean()\n",
    "mo_a_50.columns = pd.MultiIndex.from_product([['MA_50'], mo_a_50.columns])\n",
    "mo_a_100 = ten_year_returns.rolling(100).mean()\n",
    "mo_a_100.columns = pd.MultiIndex.from_product([['MA_100'], mo_a_100.columns])\n",
    "mo_a_200 = ten_year_returns.rolling(200).mean()\n",
    "mo_a_200.columns = pd.MultiIndex.from_product([['MA_200'], mo_a_200.columns])"
   ]
  },
  {
   "cell_type": "code",
   "execution_count": 58,
   "id": "202672f9-53c9-4ac0-b8dc-ebc5114bdc09",
   "metadata": {},
   "outputs": [],
   "source": [
    "moving_averages = pd.concat([\n",
    "    mo_a_5,\n",
    "    mo_a_10,\n",
    "    mo_a_20,\n",
    "    mo_a_50,\n",
    "    mo_a_100,\n",
    "    mo_a_200\n",
    "], axis=1)"
   ]
  },
  {
   "cell_type": "markdown",
   "id": "55ed341d-4aed-4990-b13a-dabcdeb97cb0",
   "metadata": {},
   "source": [
    "#### Scaling"
   ]
  },
  {
   "cell_type": "code",
   "execution_count": 59,
   "id": "2b6ff3fa-5dd1-44a4-b5a3-f5ac44b85867",
   "metadata": {},
   "outputs": [],
   "source": [
    "# using standardization scaling on my data because i want to calculate returns\n",
    "scaled_array = StandardScaler().fit_transform(moving_averages)\n",
    "scaled_moving_averages = pd.DataFrame(\n",
    "    scaled_array,\n",
    "    index=moving_averages.index,\n",
    "    columns=moving_averages.columns\n",
    ")"
   ]
  },
  {
   "cell_type": "markdown",
   "id": "b6ea4d25-7c25-49dd-ab96-5c9924c1392d",
   "metadata": {},
   "source": [
    "### Volatility"
   ]
  },
  {
   "cell_type": "code",
   "execution_count": 60,
   "id": "de7a1fee-5a94-497e-8cc8-fc15afa2b220",
   "metadata": {},
   "outputs": [],
   "source": [
    "vol_21 = ten_year_returns.rolling(21).std()\n",
    "vol_63 = ten_year_returns.rolling(63).std()\n",
    "vol_252 = ten_year_returns.rolling(252).std()"
   ]
  },
  {
   "cell_type": "markdown",
   "id": "c8d9b401-f4aa-4728-a329-5be313e07629",
   "metadata": {},
   "source": [
    "#### Scaling"
   ]
  },
  {
   "cell_type": "code",
   "execution_count": 61,
   "id": "74edb1a5-21fc-4622-a336-dcbfa63ccb83",
   "metadata": {},
   "outputs": [],
   "source": [
    "scaled_vol_21 = pd.DataFrame(\n",
    "    StandardScaler().fit_transform(vol_21),\n",
    "    index= vol_21.index,\n",
    "    columns= vol_21.columns\n",
    ")\n",
    "scaled_vol_63 = pd.DataFrame(\n",
    "    StandardScaler().fit_transform(vol_63),\n",
    "    index= vol_63.index,\n",
    "    columns= vol_63.columns\n",
    ")\n",
    "scaled_vol_252 = pd.DataFrame(\n",
    "    StandardScaler().fit_transform(vol_252),\n",
    "    index= vol_252.index,\n",
    "    columns= vol_252.columns\n",
    ")"
   ]
  },
  {
   "cell_type": "markdown",
   "id": "043c2e2b-30a0-4991-a7e1-f8876dc86fe6",
   "metadata": {},
   "source": [
    "### Market Index"
   ]
  },
  {
   "cell_type": "code",
   "execution_count": 62,
   "id": "7e8aa931-2181-46b3-81f0-50c4bfe6c05b",
   "metadata": {},
   "outputs": [
    {
     "name": "stderr",
     "output_type": "stream",
     "text": [
      "[*********************100%***********************]  1 of 1 completed\n"
     ]
    }
   ],
   "source": [
    "market_index = yf.download('^GSPC', start='2014-06-01', end='2025-06-01')"
   ]
  },
  {
   "cell_type": "code",
   "execution_count": 63,
   "id": "5b78cf45-2c8c-4534-984a-ee47d8ddb3bb",
   "metadata": {},
   "outputs": [
    {
     "data": {
      "text/plain": [
       "Date\n",
       "1 days    2166\n",
       "3 days     497\n",
       "4 days      76\n",
       "2 days      27\n",
       "Name: count, dtype: int64"
      ]
     },
     "execution_count": 63,
     "metadata": {},
     "output_type": "execute_result"
    }
   ],
   "source": [
    "market_index.index.to_series().diff().value_counts()"
   ]
  },
  {
   "cell_type": "code",
   "execution_count": 64,
   "id": "5442c5c9-94ab-47af-a835-d259f13595a0",
   "metadata": {},
   "outputs": [],
   "source": [
    "missing = pd.date_range(market_index.index.min(), market_index.index.max())\n",
    "market_index = market_index.reindex(missing).ffill()"
   ]
  },
  {
   "cell_type": "code",
   "execution_count": 65,
   "id": "8fd68c34-53d6-42d5-87f9-39ad3a5875a6",
   "metadata": {},
   "outputs": [],
   "source": [
    "market_index_return = market_index['Close'].pct_change().dropna()"
   ]
  },
  {
   "cell_type": "code",
   "execution_count": 66,
   "id": "bf7a5897-3186-49d5-86a9-825224bc993e",
   "metadata": {},
   "outputs": [
    {
     "data": {
      "text/plain": [
       "(4015, 1)"
      ]
     },
     "execution_count": 66,
     "metadata": {},
     "output_type": "execute_result"
    }
   ],
   "source": [
    "market_index_return.shape"
   ]
  },
  {
   "cell_type": "markdown",
   "id": "715f6b96-388a-4397-a530-b907381e97e1",
   "metadata": {},
   "source": [
    "#### Scaling"
   ]
  },
  {
   "cell_type": "code",
   "execution_count": 67,
   "id": "64df9e69-fe93-4234-b0b3-ed23394685c8",
   "metadata": {},
   "outputs": [],
   "source": [
    "sc_market_index_returns = pd.DataFrame(\n",
    "    StandardScaler().fit_transform(market_index_return),\n",
    "    index=market_index_return.index,\n",
    "    columns=market_index_return.columns\n",
    ")"
   ]
  },
  {
   "cell_type": "markdown",
   "id": "e2b8ed28-aad2-420c-9734-6fa30fd8ca05",
   "metadata": {},
   "source": [
    "### RSI"
   ]
  },
  {
   "cell_type": "code",
   "execution_count": 68,
   "id": "7b68c595-e4fa-4f11-bb51-2f256c5de066",
   "metadata": {},
   "outputs": [],
   "source": [
    "delta = ten_year_data_fill['Close'].diff()\n",
    "\n",
    "gain = delta.clip(lower=0)\n",
    "loss = -delta.clip(upper=0)\n",
    "\n",
    "avg_gain = gain.ewm(alpha=1/14, min_periods=14, adjust=False).mean()\n",
    "avg_loss = loss.ewm(alpha=1/14, min_periods=14, adjust=False).mean()\n",
    "\n",
    "rs = avg_gain/avg_loss\n",
    "\n",
    "rsi = 100 - (100/(1 + rs))"
   ]
  },
  {
   "cell_type": "markdown",
   "id": "03a9f207-5c80-41a4-9fa0-8985ef11fce2",
   "metadata": {},
   "source": [
    "#### Scaling"
   ]
  },
  {
   "cell_type": "code",
   "execution_count": 69,
   "id": "1b50f0a5-5cb8-4c0d-b027-9efbad8e04d6",
   "metadata": {},
   "outputs": [],
   "source": [
    "scaled_rsi = pd.DataFrame(\n",
    "    StandardScaler().fit_transform(rsi),\n",
    "    index=rsi.index,columns=rsi.columns\n",
    ")"
   ]
  },
  {
   "cell_type": "markdown",
   "id": "3ef28ff1-6b6e-430a-b0d9-456849070fa9",
   "metadata": {},
   "source": [
    "### MACD"
   ]
  },
  {
   "cell_type": "code",
   "execution_count": 70,
   "id": "b149dc29-0b0d-485c-bbf1-e52798ceb2ba",
   "metadata": {},
   "outputs": [],
   "source": [
    "fast_emw = ten_year_data_fill['Close'].ewm(alpha=1/12,adjust=False).mean()\n",
    "slow_emw = ten_year_data_fill['Close'].ewm(alpha=1/26, adjust=False).mean()\n",
    "macd_line = fast_emw - slow_emw\n",
    "\n",
    "signal_line = macd_line.ewm(alpha=1/9, adjust=False).mean()\n",
    "\n",
    "macd_histogram = macd_line - signal_line"
   ]
  },
  {
   "cell_type": "markdown",
   "id": "101ff3a0-5e22-4b91-92ee-146a42221684",
   "metadata": {},
   "source": [
    "#### Scaling"
   ]
  },
  {
   "cell_type": "code",
   "execution_count": 71,
   "id": "698918d0-0630-4fbf-bae0-a8f956b17b2b",
   "metadata": {},
   "outputs": [],
   "source": [
    "sc_macd_line = pd.DataFrame(\n",
    "    StandardScaler().fit_transform(macd_line),\n",
    "    index=macd_line.index,columns=macd_line.columns\n",
    ")\n",
    "sc_signal_line = pd.DataFrame(\n",
    "    StandardScaler().fit_transform(signal_line),\n",
    "    index=signal_line.index,columns=signal_line.columns\n",
    ")\n",
    "sc_macd_histogram = pd.DataFrame(\n",
    "    StandardScaler().fit_transform(macd_histogram),\n",
    "    index=macd_histogram.index,columns=macd_histogram.columns\n",
    ")"
   ]
  },
  {
   "cell_type": "markdown",
   "id": "052d2efa-046c-46a8-9068-62529443d8e6",
   "metadata": {},
   "source": [
    "### Bollinger Bands"
   ]
  },
  {
   "cell_type": "code",
   "execution_count": 72,
   "id": "4439b2c3-7a3d-4255-97cd-ba5ef30f7557",
   "metadata": {},
   "outputs": [],
   "source": [
    "sma_20 = ten_year_data_fill['Close'].rolling(20).mean()\n",
    "roll_std = ten_year_data_fill['Close'].rolling(20).std()\n",
    "\n",
    "upper_band = sma_20 + (2 * roll_std)\n",
    "lower_band = sma_20 - (2 * roll_std)\n",
    "\n",
    "sma_20.columns = pd.MultiIndex.from_product([['SMA-20'], sma_20.columns])\n",
    "upper_band.columns = pd.MultiIndex.from_product([['UpperBand'], upper_band.columns])\n",
    "lower_band.columns = pd.MultiIndex.from_product([['LowerBand'], lower_band.columns])\n",
    "\n",
    "bollinger_bands = pd.concat([\n",
    "    sma_20,\n",
    "    upper_band,\n",
    "    lower_band\n",
    "], axis=1)\n"
   ]
  },
  {
   "cell_type": "markdown",
   "id": "c425911d-cee9-45f0-a785-282a330acedf",
   "metadata": {},
   "source": [
    "#### Scaling"
   ]
  },
  {
   "cell_type": "code",
   "execution_count": 73,
   "id": "7368ccf9-3bda-4af6-aeeb-b56d0ffc3751",
   "metadata": {},
   "outputs": [],
   "source": [
    "sc_bollinger_bands = pd.DataFrame(\n",
    "    StandardScaler().fit_transform(bollinger_bands),\n",
    "    index=bollinger_bands.index,columns=bollinger_bands.columns\n",
    ")"
   ]
  },
  {
   "cell_type": "markdown",
   "id": "36e12f49-2031-417b-a366-f5ced3c5862a",
   "metadata": {},
   "source": [
    "### On-Balance Volume"
   ]
  },
  {
   "cell_type": "code",
   "execution_count": 74,
   "id": "505957a5-2555-4bce-a1e9-83a18b343fa1",
   "metadata": {},
   "outputs": [],
   "source": [
    "OBV = pd.DataFrame(0, index=ten_year_data_fill['Close'].index, columns=ten_year_data_fill['Close'].columns)\n",
    "for j in range(0, len(ten_year_data_fill['Close'].columns)):\n",
    "    close_col = ten_year_data_fill['Close'].iloc[:,j].values\n",
    "    volume_col = ten_year_data_fill['Volume'].iloc[:,j].values\n",
    "    obv_col = np.zeros(len(close_col))\n",
    "    for i in range(1, len(close_col)):\n",
    "        if close_col[i] > close_col[i-1]:\n",
    "            obv_col[i] = obv_col[i-1] + volume_col[i]\n",
    "        elif close_col[i] < close_col[i-1]:\n",
    "            obv_col[i] = obv_col[i-1] - volume_col[i]\n",
    "        else:\n",
    "            obv_col[i] = obv_col[i-1]\n",
    "    OBV.iloc[:,j]=obv_col "
   ]
  },
  {
   "cell_type": "markdown",
   "id": "cc09cb7d-2281-4f83-ab23-1ef09b39e0f3",
   "metadata": {},
   "source": [
    "### Scaling"
   ]
  },
  {
   "cell_type": "code",
   "execution_count": 75,
   "id": "fa599c35-8dea-4f37-856c-7169694151b4",
   "metadata": {},
   "outputs": [],
   "source": [
    "scaled_OBV = pd.DataFrame(\n",
    "    StandardScaler().fit_transform(OBV),\n",
    "    index=OBV.index,columns=OBV.columns\n",
    ")"
   ]
  },
  {
   "cell_type": "code",
   "execution_count": 76,
   "id": "81dba9e5-c2e5-46a0-8835-f9bfb29d7d22",
   "metadata": {
    "scrolled": true
   },
   "outputs": [
    {
     "data": {
      "text/plain": [
       "False"
      ]
     },
     "execution_count": 76,
     "metadata": {},
     "output_type": "execute_result"
    }
   ],
   "source": [
    "sc_market_index_returns.columns.nlevels > 1"
   ]
  },
  {
   "cell_type": "markdown",
   "id": "9b50db44-0d58-43ba-94b0-c8a2ad57c21f",
   "metadata": {},
   "source": [
    "## Training LSTM for AAPL"
   ]
  },
  {
   "cell_type": "markdown",
   "id": "09f147fb-6e4f-4161-861c-d193a685f10a",
   "metadata": {},
   "source": [
    "### Inputs For LSTM"
   ]
  },
  {
   "cell_type": "code",
   "execution_count": 77,
   "id": "a932e0be-58fc-4eb3-9f45-d48075fc9eda",
   "metadata": {},
   "outputs": [],
   "source": [
    "aapl_features = pd.concat([\n",
    "    moving_averages.xs('AAPL', level=1, axis=1),\n",
    "    vol_21['AAPL'].rename('VOL_21'),\n",
    "    vol_63['AAPL'].rename('VOL_63'),\n",
    "    vol_252['AAPL'].rename('VOL_252'),\n",
    "    market_index.rename(columns={'^GSPC':'MARKET_INDEX'}),\n",
    "    rsi['AAPL'].rename('RSI'),\n",
    "    macd_line['AAPL'].rename('MACD_LINE'),\n",
    "    signal_line['AAPL'].rename('SIGNAL_LINE'),\n",
    "    macd_histogram['AAPL'].rename('MACD_HIST'),\n",
    "    bollinger_bands.xs('AAPL', level=1, axis=1),\n",
    "    OBV['AAPL'].rename('OBV')\n",
    "], axis=1)"
   ]
  },
  {
   "cell_type": "code",
   "execution_count": 78,
   "id": "555c5723-7bc8-42ff-9b82-39896e772960",
   "metadata": {},
   "outputs": [],
   "source": [
    "aapl_features.dropna(how='any', inplace=True)"
   ]
  },
  {
   "cell_type": "markdown",
   "id": "2a1759c7-a99a-4d2d-ae63-6111950c72b1",
   "metadata": {},
   "source": [
    "### Sliding Window Generation"
   ]
  },
  {
   "cell_type": "code",
   "execution_count": 79,
   "id": "9b68163e-1efe-463f-8a75-bc74cb4da46f",
   "metadata": {},
   "outputs": [],
   "source": [
    "timesteps = 20\n",
    "horizon = 1\n",
    "\n",
    "aapl_features_array = aapl_features.values\n",
    "aapl_returns = ten_year_returns['AAPL'].dropna().values\n",
    "\n",
    "X, y = [], []\n",
    "for i in range(len(aapl_features_array) - timesteps - horizon):\n",
    "    X.append(aapl_features_array[i:i+timesteps])\n",
    "    y.append(aapl_returns[i+timesteps:i+timesteps+horizon])\n",
    "\n",
    "X = np.array(X)\n",
    "y = np.array(y)"
   ]
  },
  {
   "cell_type": "code",
   "execution_count": 80,
   "id": "29f2ec84-4494-440b-8294-382cc9ab0735",
   "metadata": {},
   "outputs": [
    {
     "data": {
      "text/plain": [
       "4015"
      ]
     },
     "execution_count": 80,
     "metadata": {},
     "output_type": "execute_result"
    }
   ],
   "source": [
    "len(aapl_returns)"
   ]
  },
  {
   "cell_type": "code",
   "execution_count": 81,
   "id": "cbe56d16-0b6c-4457-88ad-8f582ffeae34",
   "metadata": {},
   "outputs": [],
   "source": [
    "# splititng the data\n",
    "split_point = int(0.8 * len(X))\n",
    "X_train, X_test = X[:split_point], X[split_point:]\n",
    "y_train, y_test = y[:split_point], y[split_point:]"
   ]
  },
  {
   "cell_type": "code",
   "execution_count": 82,
   "id": "b97a3994-99ac-47c6-a185-ff640916b450",
   "metadata": {},
   "outputs": [],
   "source": [
    "# scaling training data\n",
    "samples, timesteps, features = X_train.shape\n",
    "X_train_2D = X_train.reshape(-1, features)\n",
    "scaled = StandardScaler()\n",
    "sc_X_train_2D = scaled.fit_transform(X_train_2D)\n",
    "sc_X_train = X_train_2D.reshape(samples, timesteps, features)\n"
   ]
  },
  {
   "cell_type": "code",
   "execution_count": 83,
   "id": "7548a4ee-ee61-42dc-8945-8fcb1c87e49d",
   "metadata": {},
   "outputs": [],
   "source": [
    "# scaling test data\n",
    "samples_test = X_test.shape[0]\n",
    "X_test_2D = X_test.reshape(-1, features)\n",
    "sc_X_test_2D = scaled.transform(X_test_2D)\n",
    "sc_X_test = sc_X_test_2D.reshape(samples_test, timesteps, features)\n"
   ]
  },
  {
   "cell_type": "code",
   "execution_count": 84,
   "id": "2164fc4d-7cc3-449c-8ff8-1adcd9a65591",
   "metadata": {},
   "outputs": [],
   "source": [
    "model = Sequential()\n",
    "model.add(LSTM(64, return_sequences=False, input_shape=(timesteps, X.shape[2])))\n",
    "model.add(Dropout(0.3))\n",
    "model.add(Dense(horizon))\n",
    "model.compile(optimizer='adam', loss='mse')"
   ]
  },
  {
   "cell_type": "code",
   "execution_count": 85,
   "id": "7b176702-18d9-49e5-af2a-ec7185d49d26",
   "metadata": {
    "scrolled": true
   },
   "outputs": [
    {
     "name": "stdout",
     "output_type": "stream",
     "text": [
      "Epoch 1/30\n",
      "\u001b[1m85/85\u001b[0m \u001b[32m━━━━━━━━━━━━━━━━━━━━\u001b[0m\u001b[37m\u001b[0m \u001b[1m5s\u001b[0m 19ms/step - loss: 0.2418 - val_loss: 0.0376\n",
      "Epoch 2/30\n",
      "\u001b[1m85/85\u001b[0m \u001b[32m━━━━━━━━━━━━━━━━━━━━\u001b[0m\u001b[37m\u001b[0m \u001b[1m1s\u001b[0m 12ms/step - loss: 0.1314 - val_loss: 0.0133\n",
      "Epoch 3/30\n",
      "\u001b[1m85/85\u001b[0m \u001b[32m━━━━━━━━━━━━━━━━━━━━\u001b[0m\u001b[37m\u001b[0m \u001b[1m1s\u001b[0m 12ms/step - loss: 0.0714 - val_loss: 0.0063\n",
      "Epoch 4/30\n",
      "\u001b[1m85/85\u001b[0m \u001b[32m━━━━━━━━━━━━━━━━━━━━\u001b[0m\u001b[37m\u001b[0m \u001b[1m1s\u001b[0m 12ms/step - loss: 0.0431 - val_loss: 0.0034\n",
      "Epoch 5/30\n",
      "\u001b[1m85/85\u001b[0m \u001b[32m━━━━━━━━━━━━━━━━━━━━\u001b[0m\u001b[37m\u001b[0m \u001b[1m1s\u001b[0m 13ms/step - loss: 0.0224 - val_loss: 0.0021\n",
      "Epoch 6/30\n",
      "\u001b[1m85/85\u001b[0m \u001b[32m━━━━━━━━━━━━━━━━━━━━\u001b[0m\u001b[37m\u001b[0m \u001b[1m1s\u001b[0m 12ms/step - loss: 0.0130 - val_loss: 0.0013\n",
      "Epoch 7/30\n",
      "\u001b[1m85/85\u001b[0m \u001b[32m━━━━━━━━━━━━━━━━━━━━\u001b[0m\u001b[37m\u001b[0m \u001b[1m1s\u001b[0m 12ms/step - loss: 0.0072 - val_loss: 8.7219e-04\n",
      "Epoch 8/30\n",
      "\u001b[1m85/85\u001b[0m \u001b[32m━━━━━━━━━━━━━━━━━━━━\u001b[0m\u001b[37m\u001b[0m \u001b[1m1s\u001b[0m 12ms/step - loss: 0.0039 - val_loss: 6.9009e-04\n",
      "Epoch 9/30\n",
      "\u001b[1m85/85\u001b[0m \u001b[32m━━━━━━━━━━━━━━━━━━━━\u001b[0m\u001b[37m\u001b[0m \u001b[1m1s\u001b[0m 11ms/step - loss: 0.0023 - val_loss: 5.0037e-04\n",
      "Epoch 10/30\n",
      "\u001b[1m85/85\u001b[0m \u001b[32m━━━━━━━━━━━━━━━━━━━━\u001b[0m\u001b[37m\u001b[0m \u001b[1m1s\u001b[0m 12ms/step - loss: 0.0014 - val_loss: 3.9477e-04\n",
      "Epoch 11/30\n",
      "\u001b[1m85/85\u001b[0m \u001b[32m━━━━━━━━━━━━━━━━━━━━\u001b[0m\u001b[37m\u001b[0m \u001b[1m1s\u001b[0m 12ms/step - loss: 9.1988e-04 - val_loss: 3.7414e-04\n",
      "Epoch 12/30\n",
      "\u001b[1m85/85\u001b[0m \u001b[32m━━━━━━━━━━━━━━━━━━━━\u001b[0m\u001b[37m\u001b[0m \u001b[1m1s\u001b[0m 13ms/step - loss: 6.7893e-04 - val_loss: 3.1975e-04\n",
      "Epoch 13/30\n",
      "\u001b[1m85/85\u001b[0m \u001b[32m━━━━━━━━━━━━━━━━━━━━\u001b[0m\u001b[37m\u001b[0m \u001b[1m1s\u001b[0m 12ms/step - loss: 4.7579e-04 - val_loss: 3.0274e-04\n",
      "Epoch 14/30\n",
      "\u001b[1m85/85\u001b[0m \u001b[32m━━━━━━━━━━━━━━━━━━━━\u001b[0m\u001b[37m\u001b[0m \u001b[1m1s\u001b[0m 12ms/step - loss: 3.9652e-04 - val_loss: 3.0118e-04\n",
      "Epoch 15/30\n",
      "\u001b[1m85/85\u001b[0m \u001b[32m━━━━━━━━━━━━━━━━━━━━\u001b[0m\u001b[37m\u001b[0m \u001b[1m1s\u001b[0m 12ms/step - loss: 3.5547e-04 - val_loss: 3.0085e-04\n",
      "Epoch 16/30\n",
      "\u001b[1m85/85\u001b[0m \u001b[32m━━━━━━━━━━━━━━━━━━━━\u001b[0m\u001b[37m\u001b[0m \u001b[1m1s\u001b[0m 12ms/step - loss: 3.0979e-04 - val_loss: 3.0120e-04\n",
      "Epoch 17/30\n",
      "\u001b[1m85/85\u001b[0m \u001b[32m━━━━━━━━━━━━━━━━━━━━\u001b[0m\u001b[37m\u001b[0m \u001b[1m1s\u001b[0m 12ms/step - loss: 2.8981e-04 - val_loss: 3.0796e-04\n",
      "Epoch 18/30\n",
      "\u001b[1m85/85\u001b[0m \u001b[32m━━━━━━━━━━━━━━━━━━━━\u001b[0m\u001b[37m\u001b[0m \u001b[1m1s\u001b[0m 13ms/step - loss: 2.6210e-04 - val_loss: 3.0186e-04\n",
      "Epoch 19/30\n",
      "\u001b[1m85/85\u001b[0m \u001b[32m━━━━━━━━━━━━━━━━━━━━\u001b[0m\u001b[37m\u001b[0m \u001b[1m1s\u001b[0m 12ms/step - loss: 2.5487e-04 - val_loss: 3.0036e-04\n",
      "Epoch 20/30\n",
      "\u001b[1m85/85\u001b[0m \u001b[32m━━━━━━━━━━━━━━━━━━━━\u001b[0m\u001b[37m\u001b[0m \u001b[1m1s\u001b[0m 12ms/step - loss: 2.5438e-04 - val_loss: 3.1145e-04\n",
      "Epoch 21/30\n",
      "\u001b[1m85/85\u001b[0m \u001b[32m━━━━━━━━━━━━━━━━━━━━\u001b[0m\u001b[37m\u001b[0m \u001b[1m1s\u001b[0m 12ms/step - loss: 2.4813e-04 - val_loss: 3.0493e-04\n",
      "Epoch 22/30\n",
      "\u001b[1m85/85\u001b[0m \u001b[32m━━━━━━━━━━━━━━━━━━━━\u001b[0m\u001b[37m\u001b[0m \u001b[1m1s\u001b[0m 12ms/step - loss: 2.3889e-04 - val_loss: 3.0314e-04\n",
      "Epoch 23/30\n",
      "\u001b[1m85/85\u001b[0m \u001b[32m━━━━━━━━━━━━━━━━━━━━\u001b[0m\u001b[37m\u001b[0m \u001b[1m1s\u001b[0m 12ms/step - loss: 2.3678e-04 - val_loss: 3.0046e-04\n",
      "Epoch 24/30\n",
      "\u001b[1m85/85\u001b[0m \u001b[32m━━━━━━━━━━━━━━━━━━━━\u001b[0m\u001b[37m\u001b[0m \u001b[1m1s\u001b[0m 12ms/step - loss: 2.2889e-04 - val_loss: 2.9910e-04\n",
      "Epoch 25/30\n",
      "\u001b[1m85/85\u001b[0m \u001b[32m━━━━━━━━━━━━━━━━━━━━\u001b[0m\u001b[37m\u001b[0m \u001b[1m1s\u001b[0m 12ms/step - loss: 2.4182e-04 - val_loss: 3.0606e-04\n",
      "Epoch 26/30\n",
      "\u001b[1m85/85\u001b[0m \u001b[32m━━━━━━━━━━━━━━━━━━━━\u001b[0m\u001b[37m\u001b[0m \u001b[1m1s\u001b[0m 11ms/step - loss: 2.3394e-04 - val_loss: 3.0528e-04\n",
      "Epoch 27/30\n",
      "\u001b[1m85/85\u001b[0m \u001b[32m━━━━━━━━━━━━━━━━━━━━\u001b[0m\u001b[37m\u001b[0m \u001b[1m1s\u001b[0m 11ms/step - loss: 2.2937e-04 - val_loss: 2.9609e-04\n",
      "Epoch 28/30\n",
      "\u001b[1m85/85\u001b[0m \u001b[32m━━━━━━━━━━━━━━━━━━━━\u001b[0m\u001b[37m\u001b[0m \u001b[1m1s\u001b[0m 11ms/step - loss: 2.3188e-04 - val_loss: 2.9541e-04\n",
      "Epoch 29/30\n",
      "\u001b[1m85/85\u001b[0m \u001b[32m━━━━━━━━━━━━━━━━━━━━\u001b[0m\u001b[37m\u001b[0m \u001b[1m1s\u001b[0m 11ms/step - loss: 2.3106e-04 - val_loss: 3.0537e-04\n",
      "Epoch 30/30\n",
      "\u001b[1m85/85\u001b[0m \u001b[32m━━━━━━━━━━━━━━━━━━━━\u001b[0m\u001b[37m\u001b[0m \u001b[1m1s\u001b[0m 11ms/step - loss: 2.3409e-04 - val_loss: 3.0125e-04\n"
     ]
    }
   ],
   "source": [
    "history = model.fit(\n",
    "    sc_X_train, y_train,\n",
    "    epochs=30,\n",
    "    batch_size=32,\n",
    "    validation_split=0.1\n",
    ")"
   ]
  },
  {
   "cell_type": "code",
   "execution_count": 86,
   "id": "07e10669-f542-422f-bc00-712a60face03",
   "metadata": {},
   "outputs": [
    {
     "name": "stdout",
     "output_type": "stream",
     "text": [
      "\u001b[1m24/24\u001b[0m \u001b[32m━━━━━━━━━━━━━━━━━━━━\u001b[0m\u001b[37m\u001b[0m \u001b[1m0s\u001b[0m 5ms/step - loss: 2.1858e-04 \n"
     ]
    }
   ],
   "source": [
    "loss = model.evaluate(X_test, y_test)"
   ]
  },
  {
   "cell_type": "code",
   "execution_count": 87,
   "id": "ddeb7e64-19fa-480a-9460-e299b7957668",
   "metadata": {},
   "outputs": [
    {
     "data": {
      "text/plain": [
       "0.014784414270874364"
      ]
     },
     "execution_count": 87,
     "metadata": {},
     "output_type": "execute_result"
    }
   ],
   "source": [
    "rmse = math.sqrt(loss)\n",
    "rmse"
   ]
  },
  {
   "cell_type": "code",
   "execution_count": 94,
   "id": "0b3ba12a-f435-463b-9a59-215664e4c9a8",
   "metadata": {},
   "outputs": [
    {
     "data": {
      "text/plain": [
       "True"
      ]
     },
     "execution_count": 94,
     "metadata": {},
     "output_type": "execute_result"
    }
   ],
   "source": [
    "rmse < aapl_returns.std()"
   ]
  },
  {
   "cell_type": "markdown",
   "id": "85141a1b-7c02-4c7a-a7c5-9be713f51e45",
   "metadata": {},
   "source": [
    "#### Since rmse is less than the average volatility, that means the model is capturing patterms"
   ]
  },
  {
   "cell_type": "code",
   "execution_count": 95,
   "id": "35cf21ea-4052-475a-a10c-eea128303703",
   "metadata": {},
   "outputs": [
    {
     "name": "stdout",
     "output_type": "stream",
     "text": [
      "\u001b[1m24/24\u001b[0m \u001b[32m━━━━━━━━━━━━━━━━━━━━\u001b[0m\u001b[37m\u001b[0m \u001b[1m0s\u001b[0m 5ms/step \n"
     ]
    }
   ],
   "source": [
    "y_pred = model.predict(X_test)"
   ]
  },
  {
   "cell_type": "markdown",
   "id": "38d9ad27-b08c-4e1b-9869-dd8afdda67b1",
   "metadata": {},
   "source": [
    "## Classical Decomposition "
   ]
  },
  {
   "cell_type": "code",
   "execution_count": null,
   "id": "e5e82df1-9ead-4b57-86d2-0e74e17ea77b",
   "metadata": {},
   "outputs": [],
   "source": [
    "decomposition = {}\n",
    "for ticker in three_year_data_return.columns:\n",
    "    series = three_year_data_return[ticker]\n",
    "    decomposition[ticker] = seasonal_decompose(series, model='additive', period=21)"
   ]
  },
  {
   "cell_type": "code",
   "execution_count": null,
   "id": "8ed5a28c-2df3-4adf-8f05-8cdaef7fd800",
   "metadata": {},
   "outputs": [],
   "source": [
    "trend = decomposition[\"VZ\"].trend\n",
    "seasonsal = decomposition[\"VZ\"].seasonal\n",
    "residual = decomposition[\"VZ\"].resid"
   ]
  },
  {
   "cell_type": "code",
   "execution_count": null,
   "id": "aac3836a-899b-4c42-ba19-399a0cc40eb0",
   "metadata": {},
   "outputs": [],
   "source": [
    "plt.figure(figsize=(35,20))\n",
    "plt.subplot(411)\n",
    "plt.plot(three_year_data_return.index, trend, label = \"Trend\", color= \"blue\")\n",
    "plt.legend(loc=\"upper left\")\n",
    "plt.subplot(412)\n",
    "plt.plot(three_year_data_return.index, seasonsal, label = \"Seasonality\", color= \"green\")\n",
    "plt.legend(loc=\"upper left\")\n",
    "plt.subplot(413)\n",
    "plt.plot(three_year_data_return.index, residual, label = \"Residual\", color= \"orange\")\n",
    "plt.legend(loc=\"upper left\")\n",
    "plt.tight_layout()\n",
    "plt.show()"
   ]
  },
  {
   "cell_type": "code",
   "execution_count": null,
   "id": "58d6e7b9-26e7-41b4-bdd2-aaeb73580030",
   "metadata": {},
   "outputs": [],
   "source": []
  },
  {
   "cell_type": "markdown",
   "id": "5356d84a-cc30-4766-b902-b7d06691e131",
   "metadata": {},
   "source": [
    "### STL Decomposition"
   ]
  },
  {
   "cell_type": "code",
   "execution_count": null,
   "id": "0f95605a-7c13-4c96-924d-013c8aaeb023",
   "metadata": {},
   "outputs": [],
   "source": [
    "stl_decomp = STL(daily_avg[\"Close Price\"], period=7).fit()"
   ]
  },
  {
   "cell_type": "code",
   "execution_count": null,
   "id": "0fb362b8-c302-447d-b4d8-259e72af4293",
   "metadata": {
    "scrolled": true
   },
   "outputs": [],
   "source": [
    "plt.figure(figsize=(10, 4))\n",
    "plt.subplot(411)\n",
    "plt.plot(daily_avg[\"Date\"] ,stl_decomp.observed, label=\"Original\", color=\"orange\")\n",
    "plt.legend(loc=\"upper left\")\n",
    "plt.subplot(412)\n",
    "plt.plot(daily_avg[\"Date\"] ,stl_decomp.trend, label=\"Trend\", color=\"grey\")\n",
    "plt.legend(loc=\"upper left\")\n",
    "plt.subplot(413)\n",
    "plt.plot(daily_avg[\"Date\"], stl_decomp.seasonal, label=\"Seasonal\", color=\"grey\")\n",
    "plt.legend(loc=\"upper left\")\n",
    "plt.subplot(414)\n",
    "plt.plot(daily_avg[\"Date\"], stl_decomp.resid, label=\"Residual\", color=\"black\")\n",
    "plt.legend(loc=\"upper left\")\n",
    "plt.tight_layout()\n",
    "plt.show()"
   ]
  },
  {
   "cell_type": "markdown",
   "id": "7b919b4b-5edc-4cdf-bed2-10cb64cc1f3c",
   "metadata": {},
   "source": [
    "### Checking Stationarity\n",
    "#### Performing Adf Test"
   ]
  },
  {
   "cell_type": "code",
   "execution_count": null,
   "id": "b3bc6d29-6151-4bbe-92ac-b21d5894c1c5",
   "metadata": {},
   "outputs": [],
   "source": [
    "adf_test = adfuller(daily_avg[\"Close Price\"])\n",
    "print(f\"ADF Statistics: {round(adf_test[0], 3)}\")\n",
    "print(f\"p-value: {round(adf_test[1], 3)}\")\n",
    "print(\"Critical Values\")\n",
    "for key, value in adf_test[4].items():\n",
    "    print(f\"{key}: {round(value, 3)}\")\n"
   ]
  },
  {
   "cell_type": "markdown",
   "id": "8dc1dc08-b6a6-4a2c-ae57-105e815e18a1",
   "metadata": {},
   "source": [
    "#### Performing KPSS Test"
   ]
  },
  {
   "cell_type": "code",
   "execution_count": null,
   "id": "f9c6305c-7781-4f25-baa4-26e1a564c06f",
   "metadata": {},
   "outputs": [],
   "source": [
    "kpss_test = kpss(daily_avg[\"Close Price\"], regression=\"ct\")\n",
    "print(f\"KPSS Statistics: {round(kpss_test[0], 2)}\")\n",
    "print(f\"p-value: {kpss_test[1]}\")\n",
    "for key, value in kpss_test[3].items():\n",
    "    print(f\"{key}: {value}\")"
   ]
  },
  {
   "cell_type": "markdown",
   "id": "e61ce640-ebc4-4f31-b9de-361ce739923b",
   "metadata": {},
   "source": [
    "#### Performing KS Test to check strict stationarity"
   ]
  },
  {
   "cell_type": "code",
   "execution_count": null,
   "id": "5d87a47c-d09a-42c4-ae4e-e861bd9bef57",
   "metadata": {},
   "outputs": [],
   "source": [
    "def ks_test_stationarity(series):\n",
    "    split = len(series) //2\n",
    "    first_half = series[:split]\n",
    "    second_half = series[split:]\n",
    "    stat, p_value  = ks_2samp(first_half, second_half)\n",
    "    return stat, p_value\n",
    "\n",
    "ks_stat, ks_p_value = ks_test_stationarity(daily_avg[\"Close Price\"])\n",
    "print(ks_stat, ks_p_value)"
   ]
  },
  {
   "cell_type": "markdown",
   "id": "fcbd9eb0-1e7c-4833-8d37-ec00d302157e",
   "metadata": {},
   "source": [
    "#### Conclusion: \n",
    "#### There is a conflict between the adf and kpss tests because the provided data is of 21 days which is not suitable for either of the tests to provide accurate results. Thereby, stationarity of data remains ambiguous"
   ]
  }
 ],
 "metadata": {
  "kernelspec": {
   "display_name": "Python (venv)",
   "language": "python",
   "name": "venv"
  },
  "language_info": {
   "codemirror_mode": {
    "name": "ipython",
    "version": 3
   },
   "file_extension": ".py",
   "mimetype": "text/x-python",
   "name": "python",
   "nbconvert_exporter": "python",
   "pygments_lexer": "ipython3",
   "version": "3.10.10"
  }
 },
 "nbformat": 4,
 "nbformat_minor": 5
}
