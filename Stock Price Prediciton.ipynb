{
 "cells": [
  {
   "cell_type": "markdown",
   "id": "b2a5ce99-457e-4072-a6b5-e716e17f2164",
   "metadata": {},
   "source": [
    "# Risk Assesement"
   ]
  },
  {
   "cell_type": "code",
   "execution_count": 1,
   "id": "97a6ca3c-cc1a-4e08-85b9-e96d85fbea94",
   "metadata": {},
   "outputs": [],
   "source": [
    "%matplotlib inline"
   ]
  },
  {
   "cell_type": "code",
   "execution_count": 49,
   "id": "04baebd5-647a-46b3-ac26-36ce39118ecc",
   "metadata": {
    "scrolled": true
   },
   "outputs": [],
   "source": [
    "from sklearn.preprocessing import StandardScaler\n",
    "from statsmodels.tsa.seasonal import seasonal_decompose\n",
    "from statsmodels.tsa.stattools import adfuller\n",
    "from statsmodels.tsa.stattools import kpss\n",
    "from statsmodels.tsa.seasonal import STL\n",
    "from scipy.stats import ks_2samp\n",
    "from Portfolio import selected_tickers\n",
    "\n",
    "import yfinance as yf\n",
    "import pandas as pd\n",
    "import numpy as np\n",
    "import warnings\n",
    "warnings.filterwarnings(\"ignore\")\n",
    "import matplotlib.pyplot as plt\n",
    "import datetime as time"
   ]
  },
  {
   "cell_type": "code",
   "execution_count": 3,
   "id": "c3cb3ff2-7252-4138-b8d3-15156a8b8396",
   "metadata": {},
   "outputs": [],
   "source": [
    "stock_data_june = pd.read_csv(\"stock_market_june2025.csv\")\n",
    "stock_data_53 = pd.read_csv(\"stock_data_july_2025.csv\")"
   ]
  },
  {
   "cell_type": "code",
   "execution_count": 4,
   "id": "4d4a3fd0-0396-4a06-ae9f-6af16d831088",
   "metadata": {},
   "outputs": [
    {
     "data": {
      "text/plain": [
       "0"
      ]
     },
     "execution_count": 4,
     "metadata": {},
     "output_type": "execute_result"
    }
   ],
   "source": [
    "pd.set_option('display.max_rows', 100) \n",
    "stock_data_june['Ticker'].value_counts().gt(2).sum()"
   ]
  },
  {
   "cell_type": "code",
   "execution_count": 5,
   "id": "a0b09162-3a2f-4e5a-bec2-326657143ffb",
   "metadata": {},
   "outputs": [],
   "source": [
    "# Checking tickers that appear more than once\n",
    "stock_data_53['Ticker'].value_counts().gt(1).sum()\n",
    "# Checking tickers that appear more than twice\n",
    "stock_data_53['Ticker'].value_counts().gt(2).sum()\n",
    "\n",
    "# Filtering\n",
    "valid_tickers = stock_data_53['Ticker'].value_counts()\n",
    "valid_tickers = valid_tickers[valid_tickers > 2].index\n",
    "sorted_stock_data = stock_data_53[stock_data_53['Ticker'].isin(valid_tickers)]"
   ]
  },
  {
   "cell_type": "code",
   "execution_count": 6,
   "id": "e1ef3a3a-bc3a-4b36-b61c-aa390c7d3f64",
   "metadata": {},
   "outputs": [
    {
     "data": {
      "text/plain": [
       "4346"
      ]
     },
     "execution_count": 6,
     "metadata": {},
     "output_type": "execute_result"
    }
   ],
   "source": [
    "len(sorted_stock_data)"
   ]
  },
  {
   "cell_type": "code",
   "execution_count": 7,
   "id": "9ad0d667-3e9a-4842-b94c-1f533566937c",
   "metadata": {},
   "outputs": [],
   "source": [
    "# Sorting the df\n",
    "sorted_stock_data[\"Date\"] = pd.to_datetime(sorted_stock_data[\"Date\"], dayfirst=True, format=\"mixed\")\n",
    "sorted_stock_data = sorted_stock_data.sort_values(['Ticker', 'Date'])\n"
   ]
  },
  {
   "cell_type": "markdown",
   "id": "10094176-9730-4766-8577-4fd0aac51596",
   "metadata": {},
   "source": [
    "### Percentage Change"
   ]
  },
  {
   "cell_type": "code",
   "execution_count": 8,
   "id": "d4bcfac6-228c-40e7-8155-828a4d37c801",
   "metadata": {},
   "outputs": [],
   "source": [
    "# Calculating percentage change\n",
    "sorted_stock_data['Return'] = sorted_stock_data.groupby('Ticker')['Close Price'].pct_change()\n",
    "# sorted_stock_data"
   ]
  },
  {
   "cell_type": "markdown",
   "id": "cae7bdc8-b5a5-4656-a9fe-97dfbe86ff06",
   "metadata": {},
   "source": [
    "### Volatility"
   ]
  },
  {
   "cell_type": "code",
   "execution_count": 52,
   "id": "eb1d9fab-1a66-447a-bb42-5ccf9ae265b0",
   "metadata": {},
   "outputs": [],
   "source": [
    "# Volatility\n",
    "volatility = sorted_stock_data.groupby('Ticker')['Return'].std()\n",
    "volatility.dropna(inplace=True)\n",
    "volatility.to_csv('volatility-by-ticker.csv')\n",
    "# volatility"
   ]
  },
  {
   "cell_type": "markdown",
   "id": "d74e9a0f-b438-4a5c-a00d-aa857344d5e0",
   "metadata": {},
   "source": [
    "### Value At Risk"
   ]
  },
  {
   "cell_type": "code",
   "execution_count": 51,
   "id": "4cc52db7-6138-45f2-b54e-33e854c3af37",
   "metadata": {
    "scrolled": true
   },
   "outputs": [],
   "source": [
    "# Value at Risk\n",
    "Var_95_by_ticker = sorted_stock_data.groupby('Ticker')['Return'].apply(\n",
    "    lambda x: np.percentile(x.dropna(), 5)\n",
    ")\n",
    "Var_95_by_ticker.to_csv('VaR-by-ticker.csv')\n",
    "Var_95_by_ticker"
   ]
  },
  {
   "cell_type": "markdown",
   "id": "6d66d9b0-8428-4d89-a6d1-47e727a1a2f1",
   "metadata": {},
   "source": [
    "### Conditional VaR"
   ]
  },
  {
   "cell_type": "code",
   "execution_count": 11,
   "id": "306d330d-90a2-4cb7-a02a-b79aeff89e7f",
   "metadata": {},
   "outputs": [],
   "source": [
    "# Conditional VaR\n",
    "CVaR_95_by_Ticker = sorted_stock_data.groupby('Ticker')['Return'].apply(\n",
    "    lambda x: x[x <= np.percentile(x.dropna(), 5)].mean()\n",
    ")\n",
    "CVaR_95_by_Ticker.to_csv('CVaR-by-Ticker.csv')"
   ]
  },
  {
   "cell_type": "markdown",
   "id": "c049fc78-ec48-4b47-8614-7886dc925bf6",
   "metadata": {},
   "source": [
    "### Drawdown"
   ]
  },
  {
   "cell_type": "code",
   "execution_count": 12,
   "id": "d4cf8f74-889e-44b8-bff1-79dc9ec8c269",
   "metadata": {},
   "outputs": [],
   "source": [
    "# Cumulative Return Calculation\n",
    "sorted_stock_data['CumulativeReturn'] = (1 + sorted_stock_data['Return']).groupby(sorted_stock_data['Ticker']).cumprod()\n"
   ]
  },
  {
   "cell_type": "code",
   "execution_count": 13,
   "id": "c5470887-5e84-42fd-98be-02c53ffacdca",
   "metadata": {},
   "outputs": [],
   "source": [
    "# Running Maximum Calcualtion\n",
    "sorted_stock_data['RunningMax'] = sorted_stock_data.groupby('Ticker')['CumulativeReturn'].cummax()"
   ]
  },
  {
   "cell_type": "code",
   "execution_count": 14,
   "id": "6fd730ec-39a2-45a1-b433-1a9a6d41ff0c",
   "metadata": {},
   "outputs": [],
   "source": [
    "# Drawdown Calculation\n",
    "sorted_stock_data['Drawdown'] = sorted_stock_data['CumulativeReturn'] / sorted_stock_data['RunningMax'] - 1\n",
    "max_drawdown = sorted_stock_data.groupby('Ticker')['Drawdown'].min()\n",
    "sorted_stock_data.to_csv('data-with-drawdown.csv')"
   ]
  },
  {
   "cell_type": "code",
   "execution_count": 15,
   "id": "f00cd465-1efd-49a9-a860-18753bbe42ae",
   "metadata": {},
   "outputs": [],
   "source": [
    "stock_data = stock_data_june"
   ]
  },
  {
   "cell_type": "code",
   "execution_count": 16,
   "id": "af1cbb32-7bf3-4a98-b9d9-0a818fd14a80",
   "metadata": {},
   "outputs": [
    {
     "data": {
      "text/plain": [
       "False"
      ]
     },
     "execution_count": 16,
     "metadata": {},
     "output_type": "execute_result"
    }
   ],
   "source": [
    "stock_data_53['Date']= pd.to_datetime(stock_data_53['Date'])\n",
    "stock_data_june['Date']= pd.to_datetime(stock_data_june['Date'], format='%d-%m-%Y')\n",
    "\n",
    "filtered = stock_data_53[stock_data_53['Date'] <= '2025-06-30']\n",
    "stock_data_june.reset_index(drop=True).equals(filtered.reset_index(drop=True))"
   ]
  },
  {
   "cell_type": "code",
   "execution_count": 17,
   "id": "5986a461-cb85-433f-a57d-d1513424f4da",
   "metadata": {
    "scrolled": true
   },
   "outputs": [
    {
     "data": {
      "text/plain": [
       "Ticker\n",
       "OUF    2\n",
       "XVD    2\n",
       "CLL    2\n",
       "GFF    2\n",
       "TXP    2\n",
       "      ..\n",
       "JKX    1\n",
       "OUV    1\n",
       "KOM    1\n",
       "LJX    1\n",
       "UAA    1\n",
       "Name: count, Length: 1691, dtype: int64"
      ]
     },
     "execution_count": 17,
     "metadata": {},
     "output_type": "execute_result"
    }
   ],
   "source": [
    "stock_data_june['Ticker'].value_counts()"
   ]
  },
  {
   "cell_type": "code",
   "execution_count": 50,
   "id": "910b3d6f-3ba1-4cea-8b26-06ebc6f07cf8",
   "metadata": {},
   "outputs": [],
   "source": [
    "filtered['Ticker'].value_counts()"
   ]
  },
  {
   "cell_type": "markdown",
   "id": "e12160b1-99d6-4810-9c90-13a4e5145664",
   "metadata": {},
   "source": [
    "# Time Series Analysis"
   ]
  },
  {
   "cell_type": "markdown",
   "id": "c6e60510-5572-4034-b73b-1c115e4698f0",
   "metadata": {},
   "source": [
    "# Scrapping"
   ]
  },
  {
   "cell_type": "code",
   "execution_count": 19,
   "id": "e3686622-af80-465f-a0ee-35a9e4d66b9b",
   "metadata": {},
   "outputs": [
    {
     "name": "stderr",
     "output_type": "stream",
     "text": [
      "[*********************100%***********************]  82 of 82 completed\n"
     ]
    }
   ],
   "source": [
    "dataset_tickers = stock_data_53['Ticker'].unique().tolist()\n",
    "dataset_tickers = [t.replace('.', '-') for t in dataset_tickers]\n",
    "ten_year_data = yf.download(dataset_tickers, start='2014-06-01', end='2025-06-01', threads=False)[[\"Open\",\"High\",\"Low\",\"Close\", \"Volume\"]]\n"
   ]
  },
  {
   "cell_type": "code",
   "execution_count": 20,
   "id": "4ab41aa9-d160-4986-b55d-d928feb7e83b",
   "metadata": {
    "scrolled": true
   },
   "outputs": [
    {
     "data": {
      "text/html": [
       "<div>\n",
       "<style scoped>\n",
       "    .dataframe tbody tr th:only-of-type {\n",
       "        vertical-align: middle;\n",
       "    }\n",
       "\n",
       "    .dataframe tbody tr th {\n",
       "        vertical-align: top;\n",
       "    }\n",
       "\n",
       "    .dataframe thead tr th {\n",
       "        text-align: left;\n",
       "    }\n",
       "\n",
       "    .dataframe thead tr:last-of-type th {\n",
       "        text-align: right;\n",
       "    }\n",
       "</style>\n",
       "<table border=\"1\" class=\"dataframe\">\n",
       "  <thead>\n",
       "    <tr>\n",
       "      <th>Price</th>\n",
       "      <th colspan=\"10\" halign=\"left\">Open</th>\n",
       "      <th>...</th>\n",
       "      <th colspan=\"10\" halign=\"left\">Volume</th>\n",
       "    </tr>\n",
       "    <tr>\n",
       "      <th>Ticker</th>\n",
       "      <th>AAPL</th>\n",
       "      <th>ABBV</th>\n",
       "      <th>ABT</th>\n",
       "      <th>ADBE</th>\n",
       "      <th>ADP</th>\n",
       "      <th>AMD</th>\n",
       "      <th>AMGN</th>\n",
       "      <th>AMT</th>\n",
       "      <th>AMZN</th>\n",
       "      <th>AVGO</th>\n",
       "      <th>...</th>\n",
       "      <th>UBER</th>\n",
       "      <th>UNH</th>\n",
       "      <th>UNP</th>\n",
       "      <th>UPS</th>\n",
       "      <th>V</th>\n",
       "      <th>VRTX</th>\n",
       "      <th>VZ</th>\n",
       "      <th>WMT</th>\n",
       "      <th>XOM</th>\n",
       "      <th>ZTS</th>\n",
       "    </tr>\n",
       "    <tr>\n",
       "      <th>Date</th>\n",
       "      <th></th>\n",
       "      <th></th>\n",
       "      <th></th>\n",
       "      <th></th>\n",
       "      <th></th>\n",
       "      <th></th>\n",
       "      <th></th>\n",
       "      <th></th>\n",
       "      <th></th>\n",
       "      <th></th>\n",
       "      <th></th>\n",
       "      <th></th>\n",
       "      <th></th>\n",
       "      <th></th>\n",
       "      <th></th>\n",
       "      <th></th>\n",
       "      <th></th>\n",
       "      <th></th>\n",
       "      <th></th>\n",
       "      <th></th>\n",
       "      <th></th>\n",
       "    </tr>\n",
       "  </thead>\n",
       "  <tbody>\n",
       "    <tr>\n",
       "      <th>2014-06-02</th>\n",
       "      <td>19.911323</td>\n",
       "      <td>34.500264</td>\n",
       "      <td>32.259497</td>\n",
       "      <td>64.540001</td>\n",
       "      <td>54.718800</td>\n",
       "      <td>4.030000</td>\n",
       "      <td>84.870698</td>\n",
       "      <td>69.317432</td>\n",
       "      <td>15.629500</td>\n",
       "      <td>5.337483</td>\n",
       "      <td>...</td>\n",
       "      <td>NaN</td>\n",
       "      <td>1986400</td>\n",
       "      <td>2625600</td>\n",
       "      <td>2914100</td>\n",
       "      <td>6364000</td>\n",
       "      <td>1173000</td>\n",
       "      <td>14364600</td>\n",
       "      <td>13171200</td>\n",
       "      <td>7761300</td>\n",
       "      <td>3561300</td>\n",
       "    </tr>\n",
       "    <tr>\n",
       "      <th>2014-06-03</th>\n",
       "      <td>19.738577</td>\n",
       "      <td>34.265751</td>\n",
       "      <td>31.985427</td>\n",
       "      <td>64.190002</td>\n",
       "      <td>54.217289</td>\n",
       "      <td>3.960000</td>\n",
       "      <td>84.674363</td>\n",
       "      <td>68.327945</td>\n",
       "      <td>15.287500</td>\n",
       "      <td>5.346478</td>\n",
       "      <td>...</td>\n",
       "      <td>NaN</td>\n",
       "      <td>2841100</td>\n",
       "      <td>2845600</td>\n",
       "      <td>2319200</td>\n",
       "      <td>9011600</td>\n",
       "      <td>975500</td>\n",
       "      <td>19683700</td>\n",
       "      <td>21640800</td>\n",
       "      <td>9384200</td>\n",
       "      <td>3323000</td>\n",
       "    </tr>\n",
       "    <tr>\n",
       "      <th>2014-06-04</th>\n",
       "      <td>20.020614</td>\n",
       "      <td>34.177000</td>\n",
       "      <td>32.082151</td>\n",
       "      <td>64.099998</td>\n",
       "      <td>53.811947</td>\n",
       "      <td>3.930000</td>\n",
       "      <td>85.437822</td>\n",
       "      <td>68.583019</td>\n",
       "      <td>15.342500</td>\n",
       "      <td>5.341231</td>\n",
       "      <td>...</td>\n",
       "      <td>NaN</td>\n",
       "      <td>3552900</td>\n",
       "      <td>2354800</td>\n",
       "      <td>2822100</td>\n",
       "      <td>12589600</td>\n",
       "      <td>1581900</td>\n",
       "      <td>12696000</td>\n",
       "      <td>18599700</td>\n",
       "      <td>7148800</td>\n",
       "      <td>3349900</td>\n",
       "    </tr>\n",
       "    <tr>\n",
       "      <th>2014-06-05</th>\n",
       "      <td>20.295747</td>\n",
       "      <td>34.576323</td>\n",
       "      <td>32.049917</td>\n",
       "      <td>64.300003</td>\n",
       "      <td>54.127988</td>\n",
       "      <td>4.040000</td>\n",
       "      <td>86.775781</td>\n",
       "      <td>68.892283</td>\n",
       "      <td>15.405000</td>\n",
       "      <td>5.359970</td>\n",
       "      <td>...</td>\n",
       "      <td>NaN</td>\n",
       "      <td>3453700</td>\n",
       "      <td>3489200</td>\n",
       "      <td>2514900</td>\n",
       "      <td>6597600</td>\n",
       "      <td>1397700</td>\n",
       "      <td>9855300</td>\n",
       "      <td>14087400</td>\n",
       "      <td>12296100</td>\n",
       "      <td>2784700</td>\n",
       "    </tr>\n",
       "    <tr>\n",
       "      <th>2014-06-06</th>\n",
       "      <td>20.411971</td>\n",
       "      <td>35.064393</td>\n",
       "      <td>32.299798</td>\n",
       "      <td>65.989998</td>\n",
       "      <td>54.389033</td>\n",
       "      <td>4.090000</td>\n",
       "      <td>86.397663</td>\n",
       "      <td>69.433363</td>\n",
       "      <td>16.250000</td>\n",
       "      <td>5.417684</td>\n",
       "      <td>...</td>\n",
       "      <td>NaN</td>\n",
       "      <td>3286600</td>\n",
       "      <td>4104800</td>\n",
       "      <td>2103700</td>\n",
       "      <td>10002400</td>\n",
       "      <td>1185200</td>\n",
       "      <td>13917800</td>\n",
       "      <td>12566700</td>\n",
       "      <td>9340900</td>\n",
       "      <td>2524200</td>\n",
       "    </tr>\n",
       "    <tr>\n",
       "      <th>...</th>\n",
       "      <td>...</td>\n",
       "      <td>...</td>\n",
       "      <td>...</td>\n",
       "      <td>...</td>\n",
       "      <td>...</td>\n",
       "      <td>...</td>\n",
       "      <td>...</td>\n",
       "      <td>...</td>\n",
       "      <td>...</td>\n",
       "      <td>...</td>\n",
       "      <td>...</td>\n",
       "      <td>...</td>\n",
       "      <td>...</td>\n",
       "      <td>...</td>\n",
       "      <td>...</td>\n",
       "      <td>...</td>\n",
       "      <td>...</td>\n",
       "      <td>...</td>\n",
       "      <td>...</td>\n",
       "      <td>...</td>\n",
       "      <td>...</td>\n",
       "    </tr>\n",
       "    <tr>\n",
       "      <th>2025-05-23</th>\n",
       "      <td>193.450453</td>\n",
       "      <td>180.808341</td>\n",
       "      <td>131.091564</td>\n",
       "      <td>409.109985</td>\n",
       "      <td>317.483676</td>\n",
       "      <td>108.089996</td>\n",
       "      <td>267.311488</td>\n",
       "      <td>211.455752</td>\n",
       "      <td>198.899994</td>\n",
       "      <td>226.407103</td>\n",
       "      <td>...</td>\n",
       "      <td>17929700.0</td>\n",
       "      <td>16873600</td>\n",
       "      <td>3227900</td>\n",
       "      <td>3318500</td>\n",
       "      <td>5345900</td>\n",
       "      <td>1427300</td>\n",
       "      <td>12393400</td>\n",
       "      <td>13668600</td>\n",
       "      <td>12061600</td>\n",
       "      <td>2732200</td>\n",
       "    </tr>\n",
       "    <tr>\n",
       "      <th>2025-05-27</th>\n",
       "      <td>198.075209</td>\n",
       "      <td>182.692089</td>\n",
       "      <td>131.260807</td>\n",
       "      <td>412.760010</td>\n",
       "      <td>321.274721</td>\n",
       "      <td>113.180000</td>\n",
       "      <td>271.497534</td>\n",
       "      <td>209.372170</td>\n",
       "      <td>203.089996</td>\n",
       "      <td>232.323178</td>\n",
       "      <td>...</td>\n",
       "      <td>17446900.0</td>\n",
       "      <td>20144600</td>\n",
       "      <td>2613300</td>\n",
       "      <td>6117400</td>\n",
       "      <td>6316000</td>\n",
       "      <td>2048300</td>\n",
       "      <td>12873700</td>\n",
       "      <td>17180900</td>\n",
       "      <td>13043600</td>\n",
       "      <td>2323100</td>\n",
       "    </tr>\n",
       "    <tr>\n",
       "      <th>2025-05-28</th>\n",
       "      <td>200.362600</td>\n",
       "      <td>183.762828</td>\n",
       "      <td>132.505229</td>\n",
       "      <td>413.809998</td>\n",
       "      <td>325.692655</td>\n",
       "      <td>114.919998</td>\n",
       "      <td>276.774704</td>\n",
       "      <td>211.336695</td>\n",
       "      <td>205.919998</td>\n",
       "      <td>236.593122</td>\n",
       "      <td>...</td>\n",
       "      <td>13810300.0</td>\n",
       "      <td>16114200</td>\n",
       "      <td>3073200</td>\n",
       "      <td>3816500</td>\n",
       "      <td>3299000</td>\n",
       "      <td>1209500</td>\n",
       "      <td>12783000</td>\n",
       "      <td>11220100</td>\n",
       "      <td>14292400</td>\n",
       "      <td>1723700</td>\n",
       "    </tr>\n",
       "    <tr>\n",
       "      <th>2025-05-29</th>\n",
       "      <td>203.349217</td>\n",
       "      <td>181.889025</td>\n",
       "      <td>131.141342</td>\n",
       "      <td>414.000000</td>\n",
       "      <td>322.588164</td>\n",
       "      <td>115.489998</td>\n",
       "      <td>276.973118</td>\n",
       "      <td>210.007173</td>\n",
       "      <td>208.029999</td>\n",
       "      <td>245.332560</td>\n",
       "      <td>...</td>\n",
       "      <td>38116300.0</td>\n",
       "      <td>16221100</td>\n",
       "      <td>2980600</td>\n",
       "      <td>4593900</td>\n",
       "      <td>4590400</td>\n",
       "      <td>882500</td>\n",
       "      <td>9960400</td>\n",
       "      <td>14338000</td>\n",
       "      <td>13825300</td>\n",
       "      <td>2450400</td>\n",
       "    </tr>\n",
       "    <tr>\n",
       "      <th>2025-05-30</th>\n",
       "      <td>199.143981</td>\n",
       "      <td>183.415831</td>\n",
       "      <td>132.286209</td>\n",
       "      <td>414.140015</td>\n",
       "      <td>323.563294</td>\n",
       "      <td>111.580002</td>\n",
       "      <td>280.335807</td>\n",
       "      <td>211.455765</td>\n",
       "      <td>204.839996</td>\n",
       "      <td>240.653577</td>\n",
       "      <td>...</td>\n",
       "      <td>29050900.0</td>\n",
       "      <td>16309300</td>\n",
       "      <td>4179600</td>\n",
       "      <td>6763200</td>\n",
       "      <td>8726900</td>\n",
       "      <td>2581700</td>\n",
       "      <td>26569500</td>\n",
       "      <td>29980100</td>\n",
       "      <td>28645800</td>\n",
       "      <td>5467800</td>\n",
       "    </tr>\n",
       "  </tbody>\n",
       "</table>\n",
       "<p>2767 rows × 410 columns</p>\n",
       "</div>"
      ],
      "text/plain": [
       "Price             Open                                                  \\\n",
       "Ticker            AAPL        ABBV         ABT        ADBE         ADP   \n",
       "Date                                                                     \n",
       "2014-06-02   19.911323   34.500264   32.259497   64.540001   54.718800   \n",
       "2014-06-03   19.738577   34.265751   31.985427   64.190002   54.217289   \n",
       "2014-06-04   20.020614   34.177000   32.082151   64.099998   53.811947   \n",
       "2014-06-05   20.295747   34.576323   32.049917   64.300003   54.127988   \n",
       "2014-06-06   20.411971   35.064393   32.299798   65.989998   54.389033   \n",
       "...                ...         ...         ...         ...         ...   \n",
       "2025-05-23  193.450453  180.808341  131.091564  409.109985  317.483676   \n",
       "2025-05-27  198.075209  182.692089  131.260807  412.760010  321.274721   \n",
       "2025-05-28  200.362600  183.762828  132.505229  413.809998  325.692655   \n",
       "2025-05-29  203.349217  181.889025  131.141342  414.000000  322.588164   \n",
       "2025-05-30  199.143981  183.415831  132.286209  414.140015  323.563294   \n",
       "\n",
       "Price                                                                   ...  \\\n",
       "Ticker             AMD        AMGN         AMT        AMZN        AVGO  ...   \n",
       "Date                                                                    ...   \n",
       "2014-06-02    4.030000   84.870698   69.317432   15.629500    5.337483  ...   \n",
       "2014-06-03    3.960000   84.674363   68.327945   15.287500    5.346478  ...   \n",
       "2014-06-04    3.930000   85.437822   68.583019   15.342500    5.341231  ...   \n",
       "2014-06-05    4.040000   86.775781   68.892283   15.405000    5.359970  ...   \n",
       "2014-06-06    4.090000   86.397663   69.433363   16.250000    5.417684  ...   \n",
       "...                ...         ...         ...         ...         ...  ...   \n",
       "2025-05-23  108.089996  267.311488  211.455752  198.899994  226.407103  ...   \n",
       "2025-05-27  113.180000  271.497534  209.372170  203.089996  232.323178  ...   \n",
       "2025-05-28  114.919998  276.774704  211.336695  205.919998  236.593122  ...   \n",
       "2025-05-29  115.489998  276.973118  210.007173  208.029999  245.332560  ...   \n",
       "2025-05-30  111.580002  280.335807  211.455765  204.839996  240.653577  ...   \n",
       "\n",
       "Price           Volume                                                 \\\n",
       "Ticker            UBER       UNH      UNP      UPS         V     VRTX   \n",
       "Date                                                                    \n",
       "2014-06-02         NaN   1986400  2625600  2914100   6364000  1173000   \n",
       "2014-06-03         NaN   2841100  2845600  2319200   9011600   975500   \n",
       "2014-06-04         NaN   3552900  2354800  2822100  12589600  1581900   \n",
       "2014-06-05         NaN   3453700  3489200  2514900   6597600  1397700   \n",
       "2014-06-06         NaN   3286600  4104800  2103700  10002400  1185200   \n",
       "...                ...       ...      ...      ...       ...      ...   \n",
       "2025-05-23  17929700.0  16873600  3227900  3318500   5345900  1427300   \n",
       "2025-05-27  17446900.0  20144600  2613300  6117400   6316000  2048300   \n",
       "2025-05-28  13810300.0  16114200  3073200  3816500   3299000  1209500   \n",
       "2025-05-29  38116300.0  16221100  2980600  4593900   4590400   882500   \n",
       "2025-05-30  29050900.0  16309300  4179600  6763200   8726900  2581700   \n",
       "\n",
       "Price                                              \n",
       "Ticker            VZ       WMT       XOM      ZTS  \n",
       "Date                                               \n",
       "2014-06-02  14364600  13171200   7761300  3561300  \n",
       "2014-06-03  19683700  21640800   9384200  3323000  \n",
       "2014-06-04  12696000  18599700   7148800  3349900  \n",
       "2014-06-05   9855300  14087400  12296100  2784700  \n",
       "2014-06-06  13917800  12566700   9340900  2524200  \n",
       "...              ...       ...       ...      ...  \n",
       "2025-05-23  12393400  13668600  12061600  2732200  \n",
       "2025-05-27  12873700  17180900  13043600  2323100  \n",
       "2025-05-28  12783000  11220100  14292400  1723700  \n",
       "2025-05-29   9960400  14338000  13825300  2450400  \n",
       "2025-05-30  26569500  29980100  28645800  5467800  \n",
       "\n",
       "[2767 rows x 410 columns]"
      ]
     },
     "execution_count": 20,
     "metadata": {},
     "output_type": "execute_result"
    }
   ],
   "source": [
    "ten_year_data"
   ]
  },
  {
   "cell_type": "markdown",
   "id": "bb7b9e4d-9eb7-4dfb-9c99-fed03eb7aba2",
   "metadata": {},
   "source": [
    "#### There are missing values. These values are refilled by forward fill"
   ]
  },
  {
   "cell_type": "code",
   "execution_count": 21,
   "id": "2294d79b-0864-419e-a299-83938141e67e",
   "metadata": {
    "scrolled": true
   },
   "outputs": [
    {
     "data": {
      "text/plain": [
       "Date\n",
       "1.0    2166\n",
       "3.0     497\n",
       "4.0      76\n",
       "2.0      27\n",
       "Name: count, dtype: int64"
      ]
     },
     "execution_count": 21,
     "metadata": {},
     "output_type": "execute_result"
    }
   ],
   "source": [
    "missing_days = ten_year_data.index.to_series().diff().dt.days.value_counts()\n",
    "missing_days"
   ]
  },
  {
   "cell_type": "code",
   "execution_count": 22,
   "id": "d92193a6-0de5-48de-b633-cfadeeea6a7c",
   "metadata": {},
   "outputs": [
    {
     "data": {
      "text/plain": [
       "True"
      ]
     },
     "execution_count": 22,
     "metadata": {},
     "output_type": "execute_result"
    }
   ],
   "source": [
    "(ten_year_data.isnull() == True).any().any()"
   ]
  },
  {
   "cell_type": "code",
   "execution_count": 23,
   "id": "1e1a9ed8-4a81-4946-a5fe-17f28e26ed7f",
   "metadata": {},
   "outputs": [
    {
     "data": {
      "text/plain": [
       "(2767, 410)"
      ]
     },
     "execution_count": 23,
     "metadata": {},
     "output_type": "execute_result"
    }
   ],
   "source": [
    "ten_year_data.shape"
   ]
  },
  {
   "cell_type": "code",
   "execution_count": 24,
   "id": "32372cc6-3a00-45b1-9ecc-94d5f040bc31",
   "metadata": {},
   "outputs": [],
   "source": [
    "ten_year_data.dropna(inplace=True)"
   ]
  },
  {
   "cell_type": "code",
   "execution_count": 25,
   "id": "85c39a8b-c4f4-42cf-bac4-a1563e17537a",
   "metadata": {},
   "outputs": [
    {
     "data": {
      "text/plain": [
       "(1523, 410)"
      ]
     },
     "execution_count": 25,
     "metadata": {},
     "output_type": "execute_result"
    }
   ],
   "source": [
    "ten_year_data.shape"
   ]
  },
  {
   "cell_type": "code",
   "execution_count": 26,
   "id": "23f2ff61-748c-4e3b-a922-7d1e04b30392",
   "metadata": {},
   "outputs": [],
   "source": [
    "date_without_missing = pd.date_range(start=ten_year_data.index.min(), end=ten_year_data.index.max())\n",
    "ten_year_data_fill = ten_year_data.reindex(date_without_missing).ffill()"
   ]
  },
  {
   "cell_type": "code",
   "execution_count": 27,
   "id": "8967a826-9ad8-49ee-b98c-3bb0d30c1d72",
   "metadata": {},
   "outputs": [
    {
     "data": {
      "text/plain": [
       "(2213, 410)"
      ]
     },
     "execution_count": 27,
     "metadata": {},
     "output_type": "execute_result"
    }
   ],
   "source": [
    "ten_year_data_fill.shape"
   ]
  },
  {
   "cell_type": "code",
   "execution_count": 28,
   "id": "a87c3f5e-07c8-4a8b-a594-d44dfd1f40e9",
   "metadata": {},
   "outputs": [
    {
     "data": {
      "text/plain": [
       "False"
      ]
     },
     "execution_count": 28,
     "metadata": {},
     "output_type": "execute_result"
    }
   ],
   "source": [
    "(ten_year_data_fill.isnull() == True).any().any()"
   ]
  },
  {
   "cell_type": "code",
   "execution_count": 29,
   "id": "87522fa0-80d9-4870-b0fd-2ec4945a174b",
   "metadata": {},
   "outputs": [
    {
     "data": {
      "text/html": [
       "<div>\n",
       "<style scoped>\n",
       "    .dataframe tbody tr th:only-of-type {\n",
       "        vertical-align: middle;\n",
       "    }\n",
       "\n",
       "    .dataframe tbody tr th {\n",
       "        vertical-align: top;\n",
       "    }\n",
       "\n",
       "    .dataframe thead th {\n",
       "        text-align: right;\n",
       "    }\n",
       "</style>\n",
       "<table border=\"1\" class=\"dataframe\">\n",
       "  <thead>\n",
       "    <tr style=\"text-align: right;\">\n",
       "      <th>Ticker</th>\n",
       "      <th>AAPL</th>\n",
       "      <th>ABBV</th>\n",
       "      <th>ABT</th>\n",
       "      <th>ADBE</th>\n",
       "      <th>ADP</th>\n",
       "      <th>AMD</th>\n",
       "      <th>AMGN</th>\n",
       "      <th>AMT</th>\n",
       "      <th>AMZN</th>\n",
       "      <th>AVGO</th>\n",
       "      <th>...</th>\n",
       "      <th>UBER</th>\n",
       "      <th>UNH</th>\n",
       "      <th>UNP</th>\n",
       "      <th>UPS</th>\n",
       "      <th>V</th>\n",
       "      <th>VRTX</th>\n",
       "      <th>VZ</th>\n",
       "      <th>WMT</th>\n",
       "      <th>XOM</th>\n",
       "      <th>ZTS</th>\n",
       "    </tr>\n",
       "  </thead>\n",
       "  <tbody>\n",
       "    <tr>\n",
       "      <th>2019-05-10</th>\n",
       "      <td>47.299339</td>\n",
       "      <td>59.049664</td>\n",
       "      <td>68.537025</td>\n",
       "      <td>278.480011</td>\n",
       "      <td>141.207733</td>\n",
       "      <td>27.959999</td>\n",
       "      <td>140.719879</td>\n",
       "      <td>166.707611</td>\n",
       "      <td>94.499001</td>\n",
       "      <td>25.500366</td>\n",
       "      <td>...</td>\n",
       "      <td>41.570000</td>\n",
       "      <td>218.176788</td>\n",
       "      <td>152.317123</td>\n",
       "      <td>78.553932</td>\n",
       "      <td>153.627319</td>\n",
       "      <td>168.850006</td>\n",
       "      <td>40.257408</td>\n",
       "      <td>30.988600</td>\n",
       "      <td>57.046558</td>\n",
       "      <td>97.310623</td>\n",
       "    </tr>\n",
       "    <tr>\n",
       "      <th>2019-05-11</th>\n",
       "      <td>47.299339</td>\n",
       "      <td>59.049664</td>\n",
       "      <td>68.537025</td>\n",
       "      <td>278.480011</td>\n",
       "      <td>141.207733</td>\n",
       "      <td>27.959999</td>\n",
       "      <td>140.719879</td>\n",
       "      <td>166.707611</td>\n",
       "      <td>94.499001</td>\n",
       "      <td>25.500366</td>\n",
       "      <td>...</td>\n",
       "      <td>41.570000</td>\n",
       "      <td>218.176788</td>\n",
       "      <td>152.317123</td>\n",
       "      <td>78.553932</td>\n",
       "      <td>153.627319</td>\n",
       "      <td>168.850006</td>\n",
       "      <td>40.257408</td>\n",
       "      <td>30.988600</td>\n",
       "      <td>57.046558</td>\n",
       "      <td>97.310623</td>\n",
       "    </tr>\n",
       "    <tr>\n",
       "      <th>2019-05-12</th>\n",
       "      <td>47.299339</td>\n",
       "      <td>59.049664</td>\n",
       "      <td>68.537025</td>\n",
       "      <td>278.480011</td>\n",
       "      <td>141.207733</td>\n",
       "      <td>27.959999</td>\n",
       "      <td>140.719879</td>\n",
       "      <td>166.707611</td>\n",
       "      <td>94.499001</td>\n",
       "      <td>25.500366</td>\n",
       "      <td>...</td>\n",
       "      <td>41.570000</td>\n",
       "      <td>218.176788</td>\n",
       "      <td>152.317123</td>\n",
       "      <td>78.553932</td>\n",
       "      <td>153.627319</td>\n",
       "      <td>168.850006</td>\n",
       "      <td>40.257408</td>\n",
       "      <td>30.988600</td>\n",
       "      <td>57.046558</td>\n",
       "      <td>97.310623</td>\n",
       "    </tr>\n",
       "    <tr>\n",
       "      <th>2019-05-13</th>\n",
       "      <td>44.550308</td>\n",
       "      <td>58.607475</td>\n",
       "      <td>67.685356</td>\n",
       "      <td>267.700012</td>\n",
       "      <td>137.901855</td>\n",
       "      <td>26.240000</td>\n",
       "      <td>137.239761</td>\n",
       "      <td>167.747101</td>\n",
       "      <td>91.134003</td>\n",
       "      <td>24.612768</td>\n",
       "      <td>...</td>\n",
       "      <td>37.099998</td>\n",
       "      <td>217.233658</td>\n",
       "      <td>148.741211</td>\n",
       "      <td>77.554726</td>\n",
       "      <td>150.396332</td>\n",
       "      <td>164.610001</td>\n",
       "      <td>40.144230</td>\n",
       "      <td>30.374355</td>\n",
       "      <td>56.413204</td>\n",
       "      <td>96.416367</td>\n",
       "    </tr>\n",
       "    <tr>\n",
       "      <th>2019-05-14</th>\n",
       "      <td>45.255562</td>\n",
       "      <td>59.804459</td>\n",
       "      <td>68.160500</td>\n",
       "      <td>271.859985</td>\n",
       "      <td>138.997925</td>\n",
       "      <td>27.320000</td>\n",
       "      <td>137.411713</td>\n",
       "      <td>168.760986</td>\n",
       "      <td>92.005997</td>\n",
       "      <td>25.335934</td>\n",
       "      <td>...</td>\n",
       "      <td>39.959999</td>\n",
       "      <td>214.404312</td>\n",
       "      <td>151.079010</td>\n",
       "      <td>77.874786</td>\n",
       "      <td>153.149368</td>\n",
       "      <td>166.720001</td>\n",
       "      <td>40.002750</td>\n",
       "      <td>30.495985</td>\n",
       "      <td>56.487720</td>\n",
       "      <td>96.321220</td>\n",
       "    </tr>\n",
       "    <tr>\n",
       "      <th>...</th>\n",
       "      <td>...</td>\n",
       "      <td>...</td>\n",
       "      <td>...</td>\n",
       "      <td>...</td>\n",
       "      <td>...</td>\n",
       "      <td>...</td>\n",
       "      <td>...</td>\n",
       "      <td>...</td>\n",
       "      <td>...</td>\n",
       "      <td>...</td>\n",
       "      <td>...</td>\n",
       "      <td>...</td>\n",
       "      <td>...</td>\n",
       "      <td>...</td>\n",
       "      <td>...</td>\n",
       "      <td>...</td>\n",
       "      <td>...</td>\n",
       "      <td>...</td>\n",
       "      <td>...</td>\n",
       "      <td>...</td>\n",
       "      <td>...</td>\n",
       "    </tr>\n",
       "    <tr>\n",
       "      <th>2025-05-26</th>\n",
       "      <td>195.048645</td>\n",
       "      <td>181.690720</td>\n",
       "      <td>130.713272</td>\n",
       "      <td>407.690002</td>\n",
       "      <td>319.493622</td>\n",
       "      <td>110.309998</td>\n",
       "      <td>269.473938</td>\n",
       "      <td>210.205597</td>\n",
       "      <td>200.990005</td>\n",
       "      <td>228.182922</td>\n",
       "      <td>...</td>\n",
       "      <td>87.750000</td>\n",
       "      <td>293.486603</td>\n",
       "      <td>219.402191</td>\n",
       "      <td>93.602295</td>\n",
       "      <td>352.919006</td>\n",
       "      <td>436.000000</td>\n",
       "      <td>42.630703</td>\n",
       "      <td>96.115509</td>\n",
       "      <td>102.080101</td>\n",
       "      <td>162.038177</td>\n",
       "    </tr>\n",
       "    <tr>\n",
       "      <th>2025-05-27</th>\n",
       "      <td>199.983047</td>\n",
       "      <td>184.129669</td>\n",
       "      <td>132.345932</td>\n",
       "      <td>413.100006</td>\n",
       "      <td>324.090637</td>\n",
       "      <td>114.559998</td>\n",
       "      <td>277.201263</td>\n",
       "      <td>212.031235</td>\n",
       "      <td>206.020004</td>\n",
       "      <td>235.096649</td>\n",
       "      <td>...</td>\n",
       "      <td>89.000000</td>\n",
       "      <td>292.920593</td>\n",
       "      <td>221.614899</td>\n",
       "      <td>95.741890</td>\n",
       "      <td>358.668884</td>\n",
       "      <td>446.000000</td>\n",
       "      <td>42.807838</td>\n",
       "      <td>97.352623</td>\n",
       "      <td>102.565582</td>\n",
       "      <td>165.705902</td>\n",
       "    </tr>\n",
       "    <tr>\n",
       "      <th>2025-05-28</th>\n",
       "      <td>200.192795</td>\n",
       "      <td>181.522171</td>\n",
       "      <td>131.430054</td>\n",
       "      <td>412.230011</td>\n",
       "      <td>322.528473</td>\n",
       "      <td>112.860001</td>\n",
       "      <td>276.159698</td>\n",
       "      <td>210.800919</td>\n",
       "      <td>204.720001</td>\n",
       "      <td>238.867767</td>\n",
       "      <td>...</td>\n",
       "      <td>88.260002</td>\n",
       "      <td>296.008667</td>\n",
       "      <td>219.471329</td>\n",
       "      <td>94.946899</td>\n",
       "      <td>359.098145</td>\n",
       "      <td>445.100006</td>\n",
       "      <td>42.443726</td>\n",
       "      <td>97.013412</td>\n",
       "      <td>101.168587</td>\n",
       "      <td>164.848770</td>\n",
       "    </tr>\n",
       "    <tr>\n",
       "      <th>2025-05-29</th>\n",
       "      <td>199.723328</td>\n",
       "      <td>184.030518</td>\n",
       "      <td>132.256348</td>\n",
       "      <td>413.359985</td>\n",
       "      <td>322.508545</td>\n",
       "      <td>113.029999</td>\n",
       "      <td>281.258362</td>\n",
       "      <td>212.041168</td>\n",
       "      <td>205.699997</td>\n",
       "      <td>241.401810</td>\n",
       "      <td>...</td>\n",
       "      <td>84.300003</td>\n",
       "      <td>296.068268</td>\n",
       "      <td>219.797318</td>\n",
       "      <td>96.281693</td>\n",
       "      <td>361.763428</td>\n",
       "      <td>447.089996</td>\n",
       "      <td>42.640545</td>\n",
       "      <td>96.873741</td>\n",
       "      <td>101.743240</td>\n",
       "      <td>166.582977</td>\n",
       "    </tr>\n",
       "    <tr>\n",
       "      <th>2025-05-30</th>\n",
       "      <td>200.622314</td>\n",
       "      <td>184.516327</td>\n",
       "      <td>132.983078</td>\n",
       "      <td>415.089996</td>\n",
       "      <td>323.911560</td>\n",
       "      <td>110.730003</td>\n",
       "      <td>285.860992</td>\n",
       "      <td>212.973816</td>\n",
       "      <td>205.009995</td>\n",
       "      <td>241.501587</td>\n",
       "      <td>...</td>\n",
       "      <td>84.160004</td>\n",
       "      <td>299.781891</td>\n",
       "      <td>220.284286</td>\n",
       "      <td>95.732071</td>\n",
       "      <td>364.548553</td>\n",
       "      <td>442.049988</td>\n",
       "      <td>43.260517</td>\n",
       "      <td>98.489967</td>\n",
       "      <td>101.356842</td>\n",
       "      <td>168.068008</td>\n",
       "    </tr>\n",
       "  </tbody>\n",
       "</table>\n",
       "<p>2213 rows × 82 columns</p>\n",
       "</div>"
      ],
      "text/plain": [
       "Ticker            AAPL        ABBV         ABT        ADBE         ADP  \\\n",
       "2019-05-10   47.299339   59.049664   68.537025  278.480011  141.207733   \n",
       "2019-05-11   47.299339   59.049664   68.537025  278.480011  141.207733   \n",
       "2019-05-12   47.299339   59.049664   68.537025  278.480011  141.207733   \n",
       "2019-05-13   44.550308   58.607475   67.685356  267.700012  137.901855   \n",
       "2019-05-14   45.255562   59.804459   68.160500  271.859985  138.997925   \n",
       "...                ...         ...         ...         ...         ...   \n",
       "2025-05-26  195.048645  181.690720  130.713272  407.690002  319.493622   \n",
       "2025-05-27  199.983047  184.129669  132.345932  413.100006  324.090637   \n",
       "2025-05-28  200.192795  181.522171  131.430054  412.230011  322.528473   \n",
       "2025-05-29  199.723328  184.030518  132.256348  413.359985  322.508545   \n",
       "2025-05-30  200.622314  184.516327  132.983078  415.089996  323.911560   \n",
       "\n",
       "Ticker             AMD        AMGN         AMT        AMZN        AVGO  ...  \\\n",
       "2019-05-10   27.959999  140.719879  166.707611   94.499001   25.500366  ...   \n",
       "2019-05-11   27.959999  140.719879  166.707611   94.499001   25.500366  ...   \n",
       "2019-05-12   27.959999  140.719879  166.707611   94.499001   25.500366  ...   \n",
       "2019-05-13   26.240000  137.239761  167.747101   91.134003   24.612768  ...   \n",
       "2019-05-14   27.320000  137.411713  168.760986   92.005997   25.335934  ...   \n",
       "...                ...         ...         ...         ...         ...  ...   \n",
       "2025-05-26  110.309998  269.473938  210.205597  200.990005  228.182922  ...   \n",
       "2025-05-27  114.559998  277.201263  212.031235  206.020004  235.096649  ...   \n",
       "2025-05-28  112.860001  276.159698  210.800919  204.720001  238.867767  ...   \n",
       "2025-05-29  113.029999  281.258362  212.041168  205.699997  241.401810  ...   \n",
       "2025-05-30  110.730003  285.860992  212.973816  205.009995  241.501587  ...   \n",
       "\n",
       "Ticker           UBER         UNH         UNP        UPS           V  \\\n",
       "2019-05-10  41.570000  218.176788  152.317123  78.553932  153.627319   \n",
       "2019-05-11  41.570000  218.176788  152.317123  78.553932  153.627319   \n",
       "2019-05-12  41.570000  218.176788  152.317123  78.553932  153.627319   \n",
       "2019-05-13  37.099998  217.233658  148.741211  77.554726  150.396332   \n",
       "2019-05-14  39.959999  214.404312  151.079010  77.874786  153.149368   \n",
       "...               ...         ...         ...        ...         ...   \n",
       "2025-05-26  87.750000  293.486603  219.402191  93.602295  352.919006   \n",
       "2025-05-27  89.000000  292.920593  221.614899  95.741890  358.668884   \n",
       "2025-05-28  88.260002  296.008667  219.471329  94.946899  359.098145   \n",
       "2025-05-29  84.300003  296.068268  219.797318  96.281693  361.763428   \n",
       "2025-05-30  84.160004  299.781891  220.284286  95.732071  364.548553   \n",
       "\n",
       "Ticker            VRTX         VZ        WMT         XOM         ZTS  \n",
       "2019-05-10  168.850006  40.257408  30.988600   57.046558   97.310623  \n",
       "2019-05-11  168.850006  40.257408  30.988600   57.046558   97.310623  \n",
       "2019-05-12  168.850006  40.257408  30.988600   57.046558   97.310623  \n",
       "2019-05-13  164.610001  40.144230  30.374355   56.413204   96.416367  \n",
       "2019-05-14  166.720001  40.002750  30.495985   56.487720   96.321220  \n",
       "...                ...        ...        ...         ...         ...  \n",
       "2025-05-26  436.000000  42.630703  96.115509  102.080101  162.038177  \n",
       "2025-05-27  446.000000  42.807838  97.352623  102.565582  165.705902  \n",
       "2025-05-28  445.100006  42.443726  97.013412  101.168587  164.848770  \n",
       "2025-05-29  447.089996  42.640545  96.873741  101.743240  166.582977  \n",
       "2025-05-30  442.049988  43.260517  98.489967  101.356842  168.068008  \n",
       "\n",
       "[2213 rows x 82 columns]"
      ]
     },
     "execution_count": 29,
     "metadata": {},
     "output_type": "execute_result"
    }
   ],
   "source": [
    "ten_year_data_fill['Close']"
   ]
  },
  {
   "cell_type": "markdown",
   "id": "536f68ad-a839-4907-9fe4-43f2f9c65713",
   "metadata": {},
   "source": [
    "## Returns"
   ]
  },
  {
   "cell_type": "code",
   "execution_count": 30,
   "id": "8335105d-145b-47e3-b706-a87421c3927a",
   "metadata": {},
   "outputs": [],
   "source": [
    "ten_year_returns = ten_year_data_fill['Close'].pct_change().dropna()"
   ]
  },
  {
   "cell_type": "markdown",
   "id": "784ca858-df0c-4976-a0ee-1755df6f9d5c",
   "metadata": {},
   "source": [
    "## Features"
   ]
  },
  {
   "cell_type": "markdown",
   "id": "493f3973-c3f7-4620-a3ef-990c982fb4cc",
   "metadata": {},
   "source": [
    "### Moving Averages"
   ]
  },
  {
   "cell_type": "code",
   "execution_count": 183,
   "id": "9add2d1f-fe82-493f-8b06-590ec58d2dc1",
   "metadata": {},
   "outputs": [],
   "source": [
    "mo_a_5 = ten_year_returns.rolling(5).mean()\n",
    "mo_a_5.columns = pd.MultiIndex.from_product([['MA_5'], mo_a_5.columns])\n",
    "mo_a_10 = ten_year_returns.rolling(10).mean()\n",
    "mo_a_10.columns = pd.MultiIndex.from_product([['MA_10'], mo_a_10.columns])\n",
    "mo_a_20 = ten_year_returns.rolling(20).mean()\n",
    "mo_a_20.columns = pd.MultiIndex.from_product([['MA_20'], mo_a_20.columns])\n",
    "mo_a_50 = ten_year_returns.rolling(50).mean()\n",
    "mo_a_50.columns = pd.MultiIndex.from_product([['MA_50'], mo_a_50.columns])\n",
    "mo_a_100 = ten_year_returns.rolling(100).mean()\n",
    "mo_a_100.columns = pd.MultiIndex.from_product([['MA_100'], mo_a_100.columns])\n",
    "mo_a_200 = ten_year_returns.rolling(200).mean()\n",
    "mo_a_200.columns = pd.MultiIndex.from_product([['MA_200'], mo_a_200.columns])"
   ]
  },
  {
   "cell_type": "code",
   "execution_count": 32,
   "id": "202672f9-53c9-4ac0-b8dc-ebc5114bdc09",
   "metadata": {},
   "outputs": [],
   "source": [
    "moving_averages = pd.concat([\n",
    "    mo_a_5,\n",
    "    mo_a_10,\n",
    "    mo_a_20,\n",
    "    mo_a_50,\n",
    "    mo_a_100,\n",
    "    mo_a_200\n",
    "], axis=1)"
   ]
  },
  {
   "cell_type": "markdown",
   "id": "55ed341d-4aed-4990-b13a-dabcdeb97cb0",
   "metadata": {},
   "source": [
    "#### Scaling"
   ]
  },
  {
   "cell_type": "code",
   "execution_count": 97,
   "id": "2b6ff3fa-5dd1-44a4-b5a3-f5ac44b85867",
   "metadata": {},
   "outputs": [],
   "source": [
    "scaled_array = StandardScaler().fit_transform(moving_averages)\n",
    "scaled_moving_averages = pd.DataFrame(\n",
    "    scaled_array,\n",
    "    index=moving_averages.index,\n",
    "    columns=moving_averages.columns\n",
    ")"
   ]
  },
  {
   "cell_type": "markdown",
   "id": "b6ea4d25-7c25-49dd-ab96-5c9924c1392d",
   "metadata": {},
   "source": [
    "### Volatility"
   ]
  },
  {
   "cell_type": "code",
   "execution_count": 182,
   "id": "de7a1fee-5a94-497e-8cc8-fc15afa2b220",
   "metadata": {},
   "outputs": [],
   "source": [
    "vol_21 = ten_year_returns.rolling(21).std()\n",
    "vol_63 = ten_year_returns.rolling(63).std()\n",
    "vol_252 = ten_year_returns.rolling(252).std()"
   ]
  },
  {
   "cell_type": "markdown",
   "id": "c8d9b401-f4aa-4728-a329-5be313e07629",
   "metadata": {},
   "source": [
    "#### Scaling"
   ]
  },
  {
   "cell_type": "code",
   "execution_count": 112,
   "id": "74edb1a5-21fc-4622-a336-dcbfa63ccb83",
   "metadata": {},
   "outputs": [],
   "source": [
    "scaled_vol_21 = pd.DataFrame(\n",
    "    StandardScaler().fit_transform(vol_21),\n",
    "    index= vol_21.index,\n",
    "    columns= vol_21.columns\n",
    ")\n",
    "scaled_vol_63 = pd.DataFrame(\n",
    "    StandardScaler().fit_transform(vol_63),\n",
    "    index= vol_63.index,\n",
    "    columns= vol_63.columns\n",
    ")\n",
    "scaled_vol_252 = pd.DataFrame(\n",
    "    StandardScaler().fit_transform(vol_252),\n",
    "    index= vol_252.index,\n",
    "    columns= vol_252.columns\n",
    ")"
   ]
  },
  {
   "cell_type": "markdown",
   "id": "043c2e2b-30a0-4991-a7e1-f8876dc86fe6",
   "metadata": {},
   "source": [
    "### Market Index"
   ]
  },
  {
   "cell_type": "code",
   "execution_count": 34,
   "id": "7e8aa931-2181-46b3-81f0-50c4bfe6c05b",
   "metadata": {},
   "outputs": [
    {
     "name": "stderr",
     "output_type": "stream",
     "text": [
      "[*********************100%***********************]  1 of 1 completed\n"
     ]
    }
   ],
   "source": [
    "market_index = yf.download('^GSPC', start='2014-06-01', end='2025-06-01')"
   ]
  },
  {
   "cell_type": "code",
   "execution_count": 134,
   "id": "5b78cf45-2c8c-4534-984a-ee47d8ddb3bb",
   "metadata": {},
   "outputs": [
    {
     "data": {
      "text/plain": [
       "1 days    4015\n",
       "Name: count, dtype: int64"
      ]
     },
     "execution_count": 134,
     "metadata": {},
     "output_type": "execute_result"
    }
   ],
   "source": [
    "market_index.index.to_series().diff().value_counts()"
   ]
  },
  {
   "cell_type": "code",
   "execution_count": 131,
   "id": "5442c5c9-94ab-47af-a835-d259f13595a0",
   "metadata": {},
   "outputs": [],
   "source": [
    "missing = pd.date_range(market_index.index.min(), market_index.index.max())\n",
    "market_index = market_index.reindex(missing).ffill()"
   ]
  },
  {
   "cell_type": "code",
   "execution_count": 132,
   "id": "8fd68c34-53d6-42d5-87f9-39ad3a5875a6",
   "metadata": {},
   "outputs": [],
   "source": [
    "market_index_return = market_index['Close'].pct_change().dropna()"
   ]
  },
  {
   "cell_type": "markdown",
   "id": "715f6b96-388a-4397-a530-b907381e97e1",
   "metadata": {},
   "source": [
    "#### Scaling"
   ]
  },
  {
   "cell_type": "code",
   "execution_count": 138,
   "id": "64df9e69-fe93-4234-b0b3-ed23394685c8",
   "metadata": {},
   "outputs": [],
   "source": [
    "sc_market_index_returns = pd.DataFrame(\n",
    "    StandardScaler().fit_transform(market_index_return),\n",
    "    index=market_index_return.index,\n",
    "    columns=market_index_return.columns\n",
    ")"
   ]
  },
  {
   "cell_type": "markdown",
   "id": "e2b8ed28-aad2-420c-9734-6fa30fd8ca05",
   "metadata": {},
   "source": [
    "### RSI"
   ]
  },
  {
   "cell_type": "code",
   "execution_count": 154,
   "id": "7b68c595-e4fa-4f11-bb51-2f256c5de066",
   "metadata": {},
   "outputs": [],
   "source": [
    "delta = ten_year_data_fill['Close'].diff().dropna()\n",
    "\n",
    "gain = delta.clip(lower=0)\n",
    "loss = -delta.clip(upper=0)\n",
    "\n",
    "avg_gain = gain.ewm(alpha=1/14, min_periods=14, adjust=False).mean().dropna()\n",
    "avg_loss = loss.ewm(alpha=1/14, min_periods=14, adjust=False).mean().dropna()\n",
    "\n",
    "rs = avg_gain/avg_loss\n",
    "\n",
    "rsi = 100 - (100/(1 + rs))"
   ]
  },
  {
   "cell_type": "markdown",
   "id": "03a9f207-5c80-41a4-9fa0-8985ef11fce2",
   "metadata": {},
   "source": [
    "#### Scaling"
   ]
  },
  {
   "cell_type": "code",
   "execution_count": 161,
   "id": "1b50f0a5-5cb8-4c0d-b027-9efbad8e04d6",
   "metadata": {},
   "outputs": [],
   "source": [
    "scaled_rsi = pd.DataFrame(\n",
    "    StandardScaler().fit_transform(rsi),\n",
    "    index=rsi.index,columns=rsi.columns\n",
    ")"
   ]
  },
  {
   "cell_type": "markdown",
   "id": "3ef28ff1-6b6e-430a-b0d9-456849070fa9",
   "metadata": {},
   "source": [
    "### MACD"
   ]
  },
  {
   "cell_type": "code",
   "execution_count": 39,
   "id": "b149dc29-0b0d-485c-bbf1-e52798ceb2ba",
   "metadata": {},
   "outputs": [],
   "source": [
    "fast_emw = ten_year_data_fill['Close'].ewm(alpha=1/12,adjust=False).mean()\n",
    "slow_emw = ten_year_data_fill['Close'].ewm(alpha=1/26, adjust=False).mean()\n",
    "macd_line = fast_emw - slow_emw\n",
    "\n",
    "signal_line = macd_line.ewm(alpha=1/9, adjust=False).mean()\n",
    "\n",
    "macd_histogram = macd_line - signal_line"
   ]
  },
  {
   "cell_type": "markdown",
   "id": "101ff3a0-5e22-4b91-92ee-146a42221684",
   "metadata": {},
   "source": [
    "#### Scaling"
   ]
  },
  {
   "cell_type": "code",
   "execution_count": 169,
   "id": "698918d0-0630-4fbf-bae0-a8f956b17b2b",
   "metadata": {},
   "outputs": [],
   "source": [
    "sc_macd_line = pd.DataFrame(\n",
    "    StandardScaler().fit_transform(macd_line),\n",
    "    index=macd_line.index,columns=macd_line.columns\n",
    ")\n",
    "sc_signal_line = pd.DataFrame(\n",
    "    StandardScaler().fit_transform(signal_line),\n",
    "    index=signal_line.index,columns=signal_line.columns\n",
    ")\n",
    "sc_macd_histogram = pd.DataFrame(\n",
    "    StandardScaler().fit_transform(macd_histogram),\n",
    "    index=macd_histogram.index,columns=macd_histogram.columns\n",
    ")"
   ]
  },
  {
   "cell_type": "markdown",
   "id": "052d2efa-046c-46a8-9068-62529443d8e6",
   "metadata": {},
   "source": [
    "### Bollinger Bands"
   ]
  },
  {
   "cell_type": "code",
   "execution_count": 179,
   "id": "4439b2c3-7a3d-4255-97cd-ba5ef30f7557",
   "metadata": {},
   "outputs": [],
   "source": [
    "sma_20 = ten_year_data_fill['Close'].rolling(20).mean()\n",
    "roll_std = ten_year_data_fill['Close'].rolling(20).std()\n",
    "lower_band = sma_20 - (2 * roll_std)\n",
    "sma_20.columns = pd.MultiIndex.from_product([['SMA-20'], sma_20.columns])\n",
    "upper_band.columns = pd.MultiIndex.from_product([['UpperBand'], upper_band.columns])\n",
    "lower_band.columns = pd.MultiIndex.from_product([['LowerBand'], lower_band.columns])\n",
    "\n",
    "bollinger_bands = pd.concat([\n",
    "    sma_20,\n",
    "    upper_band,\n",
    "    lower_band\n",
    "], axis=1)\n"
   ]
  },
  {
   "cell_type": "markdown",
   "id": "c425911d-cee9-45f0-a785-282a330acedf",
   "metadata": {},
   "source": [
    "#### Scaling"
   ]
  },
  {
   "cell_type": "code",
   "execution_count": 184,
   "id": "7368ccf9-3bda-4af6-aeeb-b56d0ffc3751",
   "metadata": {},
   "outputs": [],
   "source": [
    "sc_bollinger_bands = pd.DataFrame(\n",
    "    StandardScaler().fit_transform(bollinger_bands),\n",
    "    index=bollinger_bands.index,columns=bollinger_bands.columns\n",
    ")"
   ]
  },
  {
   "cell_type": "markdown",
   "id": "36e12f49-2031-417b-a366-f5ced3c5862a",
   "metadata": {},
   "source": [
    "### On-Balance Volume"
   ]
  },
  {
   "cell_type": "code",
   "execution_count": 42,
   "id": "505957a5-2555-4bce-a1e9-83a18b343fa1",
   "metadata": {},
   "outputs": [],
   "source": [
    "OBV = pd.DataFrame(0, index=ten_year_data_fill['Close'].index, columns=ten_year_data_fill['Close'].columns)\n",
    "for j in range(0, len(ten_year_data_fill['Close'].columns)):\n",
    "    close_col = ten_year_data_fill['Close'].iloc[:,j].values\n",
    "    volume_col = ten_year_data_fill['Volume'].iloc[:,j].values\n",
    "    obv_col = np.zeros(len(close_col))\n",
    "    for i in range(1, len(close_col)):\n",
    "        if close_col[i] > close_col[i-1]:\n",
    "            obv_col[i] = obv_col[i-1] + volume_col[i]\n",
    "        elif close_col[i] < close_col[i-1]:\n",
    "            obv_col[i] = obv_col[i-1] - volume_col[i]\n",
    "        else:\n",
    "            obv_col[i] = obv_col[i-1]\n",
    "    OBV.iloc[:,j]=obv_col "
   ]
  },
  {
   "cell_type": "markdown",
   "id": "cc09cb7d-2281-4f83-ab23-1ef09b39e0f3",
   "metadata": {},
   "source": [
    "### Scaling"
   ]
  },
  {
   "cell_type": "code",
   "execution_count": 186,
   "id": "fa599c35-8dea-4f37-856c-7169694151b4",
   "metadata": {},
   "outputs": [],
   "source": [
    "scaled_OBV = pd.DataFrame(\n",
    "    StandardScaler().fit_transform(OBV),\n",
    "    index=OBV.index,columns=OBV.columns\n",
    ")"
   ]
  },
  {
   "cell_type": "markdown",
   "id": "38d9ad27-b08c-4e1b-9869-dd8afdda67b1",
   "metadata": {},
   "source": [
    "## Classical Decomposition "
   ]
  },
  {
   "cell_type": "code",
   "execution_count": 41,
   "id": "e5e82df1-9ead-4b57-86d2-0e74e17ea77b",
   "metadata": {},
   "outputs": [
    {
     "ename": "NameError",
     "evalue": "name 'three_year_data_return' is not defined",
     "output_type": "error",
     "traceback": [
      "\u001b[0;31m---------------------------------------------------------------------------\u001b[0m",
      "\u001b[0;31mNameError\u001b[0m                                 Traceback (most recent call last)",
      "Cell \u001b[0;32mIn[41], line 2\u001b[0m\n\u001b[1;32m      1\u001b[0m decomposition \u001b[38;5;241m=\u001b[39m {}\n\u001b[0;32m----> 2\u001b[0m \u001b[38;5;28;01mfor\u001b[39;00m ticker \u001b[38;5;129;01min\u001b[39;00m \u001b[43mthree_year_data_return\u001b[49m\u001b[38;5;241m.\u001b[39mcolumns:\n\u001b[1;32m      3\u001b[0m     series \u001b[38;5;241m=\u001b[39m three_year_data_return[ticker]\n\u001b[1;32m      4\u001b[0m     decomposition[ticker] \u001b[38;5;241m=\u001b[39m seasonal_decompose(series, model\u001b[38;5;241m=\u001b[39m\u001b[38;5;124m'\u001b[39m\u001b[38;5;124madditive\u001b[39m\u001b[38;5;124m'\u001b[39m, period\u001b[38;5;241m=\u001b[39m\u001b[38;5;241m21\u001b[39m)\n",
      "\u001b[0;31mNameError\u001b[0m: name 'three_year_data_return' is not defined"
     ]
    }
   ],
   "source": [
    "decomposition = {}\n",
    "for ticker in three_year_data_return.columns:\n",
    "    series = three_year_data_return[ticker]\n",
    "    decomposition[ticker] = seasonal_decompose(series, model='additive', period=21)"
   ]
  },
  {
   "cell_type": "code",
   "execution_count": null,
   "id": "8ed5a28c-2df3-4adf-8f05-8cdaef7fd800",
   "metadata": {},
   "outputs": [],
   "source": [
    "trend = decomposition[\"VZ\"].trend\n",
    "seasonsal = decomposition[\"VZ\"].seasonal\n",
    "residual = decomposition[\"VZ\"].resid"
   ]
  },
  {
   "cell_type": "code",
   "execution_count": null,
   "id": "aac3836a-899b-4c42-ba19-399a0cc40eb0",
   "metadata": {},
   "outputs": [],
   "source": [
    "plt.figure(figsize=(35,20))\n",
    "plt.subplot(411)\n",
    "plt.plot(three_year_data_return.index, trend, label = \"Trend\", color= \"blue\")\n",
    "plt.legend(loc=\"upper left\")\n",
    "plt.subplot(412)\n",
    "plt.plot(three_year_data_return.index, seasonsal, label = \"Seasonality\", color= \"green\")\n",
    "plt.legend(loc=\"upper left\")\n",
    "plt.subplot(413)\n",
    "plt.plot(three_year_data_return.index, residual, label = \"Residual\", color= \"orange\")\n",
    "plt.legend(loc=\"upper left\")\n",
    "plt.tight_layout()\n",
    "plt.show()"
   ]
  },
  {
   "cell_type": "code",
   "execution_count": null,
   "id": "58d6e7b9-26e7-41b4-bdd2-aaeb73580030",
   "metadata": {},
   "outputs": [],
   "source": []
  },
  {
   "cell_type": "markdown",
   "id": "5356d84a-cc30-4766-b902-b7d06691e131",
   "metadata": {},
   "source": [
    "### STL Decomposition"
   ]
  },
  {
   "cell_type": "code",
   "execution_count": null,
   "id": "0f95605a-7c13-4c96-924d-013c8aaeb023",
   "metadata": {},
   "outputs": [],
   "source": [
    "stl_decomp = STL(daily_avg[\"Close Price\"], period=7).fit()"
   ]
  },
  {
   "cell_type": "code",
   "execution_count": null,
   "id": "0fb362b8-c302-447d-b4d8-259e72af4293",
   "metadata": {
    "scrolled": true
   },
   "outputs": [],
   "source": [
    "plt.figure(figsize=(10, 4))\n",
    "plt.subplot(411)\n",
    "plt.plot(daily_avg[\"Date\"] ,stl_decomp.observed, label=\"Original\", color=\"orange\")\n",
    "plt.legend(loc=\"upper left\")\n",
    "plt.subplot(412)\n",
    "plt.plot(daily_avg[\"Date\"] ,stl_decomp.trend, label=\"Trend\", color=\"grey\")\n",
    "plt.legend(loc=\"upper left\")\n",
    "plt.subplot(413)\n",
    "plt.plot(daily_avg[\"Date\"], stl_decomp.seasonal, label=\"Seasonal\", color=\"grey\")\n",
    "plt.legend(loc=\"upper left\")\n",
    "plt.subplot(414)\n",
    "plt.plot(daily_avg[\"Date\"], stl_decomp.resid, label=\"Residual\", color=\"black\")\n",
    "plt.legend(loc=\"upper left\")\n",
    "plt.tight_layout()\n",
    "plt.show()"
   ]
  },
  {
   "cell_type": "markdown",
   "id": "7b919b4b-5edc-4cdf-bed2-10cb64cc1f3c",
   "metadata": {},
   "source": [
    "### Checking Stationarity\n",
    "#### Performing Adf Test"
   ]
  },
  {
   "cell_type": "code",
   "execution_count": null,
   "id": "b3bc6d29-6151-4bbe-92ac-b21d5894c1c5",
   "metadata": {},
   "outputs": [],
   "source": [
    "adf_test = adfuller(daily_avg[\"Close Price\"])\n",
    "print(f\"ADF Statistics: {round(adf_test[0], 3)}\")\n",
    "print(f\"p-value: {round(adf_test[1], 3)}\")\n",
    "print(\"Critical Values\")\n",
    "for key, value in adf_test[4].items():\n",
    "    print(f\"{key}: {round(value, 3)}\")\n"
   ]
  },
  {
   "cell_type": "markdown",
   "id": "8dc1dc08-b6a6-4a2c-ae57-105e815e18a1",
   "metadata": {},
   "source": [
    "#### Performing KPSS Test"
   ]
  },
  {
   "cell_type": "code",
   "execution_count": null,
   "id": "f9c6305c-7781-4f25-baa4-26e1a564c06f",
   "metadata": {},
   "outputs": [],
   "source": [
    "kpss_test = kpss(daily_avg[\"Close Price\"], regression=\"ct\")\n",
    "print(f\"KPSS Statistics: {round(kpss_test[0], 2)}\")\n",
    "print(f\"p-value: {kpss_test[1]}\")\n",
    "for key, value in kpss_test[3].items():\n",
    "    print(f\"{key}: {value}\")"
   ]
  },
  {
   "cell_type": "markdown",
   "id": "e61ce640-ebc4-4f31-b9de-361ce739923b",
   "metadata": {},
   "source": [
    "#### Performing KS Test to check strict stationarity"
   ]
  },
  {
   "cell_type": "code",
   "execution_count": null,
   "id": "5d87a47c-d09a-42c4-ae4e-e861bd9bef57",
   "metadata": {},
   "outputs": [],
   "source": [
    "def ks_test_stationarity(series):\n",
    "    split = len(series) //2\n",
    "    first_half = series[:split]\n",
    "    second_half = series[split:]\n",
    "    stat, p_value  = ks_2samp(first_half, second_half)\n",
    "    return stat, p_value\n",
    "\n",
    "ks_stat, ks_p_value = ks_test_stationarity(daily_avg[\"Close Price\"])\n",
    "print(ks_stat, ks_p_value)"
   ]
  },
  {
   "cell_type": "markdown",
   "id": "fcbd9eb0-1e7c-4833-8d37-ec00d302157e",
   "metadata": {},
   "source": [
    "#### Conclusion: \n",
    "#### There is a conflict between the adf and kpss tests because the provided data is of 21 days which is not suitable for either of the tests to provide accurate results. Thereby, stationarity of data remains ambiguous"
   ]
  }
 ],
 "metadata": {
  "kernelspec": {
   "display_name": "Python 3.10",
   "language": "python",
   "name": "py310"
  },
  "language_info": {
   "codemirror_mode": {
    "name": "ipython",
    "version": 3
   },
   "file_extension": ".py",
   "mimetype": "text/x-python",
   "name": "python",
   "nbconvert_exporter": "python",
   "pygments_lexer": "ipython3",
   "version": "3.10.10"
  }
 },
 "nbformat": 4,
 "nbformat_minor": 5
}
